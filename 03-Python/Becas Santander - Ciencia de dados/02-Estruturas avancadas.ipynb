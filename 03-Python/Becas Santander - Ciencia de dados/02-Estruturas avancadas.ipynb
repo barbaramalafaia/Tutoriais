{
 "cells": [
  {
   "cell_type": "markdown",
   "metadata": {},
   "source": [
    "# AULA 01 - Listas e Tuplas"
   ]
  },
  {
   "cell_type": "markdown",
   "metadata": {},
   "source": [
    "## Listas\n",
    "Listas são coleções de objetos em Python. Ao invés de declarar 1 variável para cada valor que gostaríamos de armazenar, podemos criar uma lista para armazenar vários valores."
   ]
  },
  {
   "cell_type": "code",
   "execution_count": 1,
   "metadata": {},
   "outputs": [
    {
     "name": "stdout",
     "output_type": "stream",
     "text": [
      "1\n",
      "3\n",
      "7\n",
      "8\n",
      "9\n",
      "[1, 3, 5, 8, 9]\n",
      "1\n",
      "3\n",
      "5\n",
      "8\n",
      "9\n"
     ]
    }
   ],
   "source": [
    "# Criando uma lista vazia.\n",
    "listavazia = []\n",
    "\n",
    "# Criando uma lista com alguns valores.\n",
    "numeros = [1, 3, 7, 8, 9]\n",
    "\n",
    "# Listas podem mesclar diferentes tipos de valores.\n",
    "listamista = [14, \"let's code\", 0.1, True]\n",
    "\n",
    "# Acessamos cada elemento da lista através de um índice entre colchetes.\n",
    "# Os índices começam em 0.\n",
    "print(numeros[0])\n",
    "print(numeros[1])\n",
    "print(numeros[2])\n",
    "print(numeros[3])\n",
    "print(numeros[4])\n",
    "\n",
    "# Listas são mutáveis: podemos alterar o valor de seus itens.\n",
    "numeros[2] = 5\n",
    "print(numeros)\n",
    "\n",
    "# Um jeito inteligente de trabalhar com listas é utilizando loops.\n",
    "indice = 0\n",
    "while indice < 5:\n",
    "    print(numeros[indice])\n",
    "    indice = indice + 1"
   ]
  },
  {
   "cell_type": "markdown",
   "metadata": {},
   "source": [
    "## Funções de listas\n",
    "Algumas funções podem nos ajudar a trabalhar com listas. Ao percorrermos nossa lista com um while, poderíamos usar len() caso não soubéssemos o comprimento da lista."
   ]
  },
  {
   "cell_type": "code",
   "execution_count": 2,
   "metadata": {},
   "outputs": [
    {
     "name": "stdout",
     "output_type": "stream",
     "text": [
      "1\n",
      "3\n",
      "5\n",
      "8\n",
      "9\n"
     ]
    }
   ],
   "source": [
    "indice = 0\n",
    "while indice < len(numeros):\n",
    "    print(numeros[indice])\n",
    "    indice = indice + 1"
   ]
  },
  {
   "cell_type": "markdown",
   "metadata": {},
   "source": [
    "Outra função útil é lista.append(), que coloca um elemento novo ao final da lista."
   ]
  },
  {
   "cell_type": "code",
   "execution_count": 6,
   "metadata": {},
   "outputs": [
    {
     "name": "stdout",
     "output_type": "stream",
     "text": [
      "Deseja adicionar um animal à lista (s/n)? s\n",
      "Digite o nome do animal: Gato\n",
      "Deseja adicionar um animal à lista (s/n)? s\n",
      "Digite o nome do animal: Cão\n",
      "Deseja adicionar um animal à lista (s/n)? s\n",
      "Digite o nome do animal: Cavalo\n",
      "Deseja adicionar um animal à lista (s/n)? n\n",
      "['Gato', 'Cão', 'Cavalo']\n"
     ]
    }
   ],
   "source": [
    "animais = []\n",
    "resposta = 's'\n",
    "while resposta == 's' or resposta == 'S':\n",
    "    resposta = input('Deseja adicionar um animal à lista (s/n)? ')\n",
    "    if (resposta == 's' or resposta == 'S'):\n",
    "        animal = input('Digite o nome do animal: ')\n",
    "        animais.append(animal) # adiciona o novo animal à lista\n",
    "print(animais)"
   ]
  },
  {
   "cell_type": "markdown",
   "metadata": {},
   "source": [
    "A função lista.remove() deleta um elemento da lista. (mas dá erro se o elemento não existir)."
   ]
  },
  {
   "cell_type": "code",
   "execution_count": 7,
   "metadata": {},
   "outputs": [
    {
     "name": "stdout",
     "output_type": "stream",
     "text": [
      "Digite o animal a ser deletado da lista: Cão\n",
      "['Gato', 'Cavalo']\n"
     ]
    }
   ],
   "source": [
    "animal = input('Digite o animal a ser deletado da lista: ')\n",
    "animais.remove(animal)\n",
    "print(animais)"
   ]
  },
  {
   "cell_type": "markdown",
   "metadata": {},
   "source": [
    "Algumas outras funções úteis:\n",
    "\n",
    "    lista.count() conta quantas vezes um elemento aparece."
   ]
  },
  {
   "cell_type": "code",
   "execution_count": 8,
   "metadata": {},
   "outputs": [
    {
     "name": "stdout",
     "output_type": "stream",
     "text": [
      "['Ronaldo', 'Rivaldo', 'Ronaldo', 'Adriano']\n",
      "Quantidade de Ronaldos:  2\n"
     ]
    }
   ],
   "source": [
    "jogadores = ['Ronaldo', 'Rivaldo', 'Ronaldo', 'Adriano']\n",
    "ronaldos = jogadores.count('Ronaldo')\n",
    "print(jogadores)\n",
    "print('Quantidade de Ronaldos: ', ronaldos)"
   ]
  },
  {
   "cell_type": "markdown",
   "metadata": {},
   "source": [
    "    lista.index() busca em um elemento e fala em qual posição ele aparece."
   ]
  },
  {
   "cell_type": "code",
   "execution_count": 9,
   "metadata": {},
   "outputs": [
    {
     "name": "stdout",
     "output_type": "stream",
     "text": [
      "Rivaldo está na posição  1\n"
     ]
    }
   ],
   "source": [
    "rivaldo = jogadores.index('Rivaldo')\n",
    "print(\"Rivaldo está na posição \", rivaldo)"
   ]
  },
  {
   "cell_type": "markdown",
   "metadata": {},
   "source": [
    "    lista.sort() ordena uma lista."
   ]
  },
  {
   "cell_type": "code",
   "execution_count": 10,
   "metadata": {},
   "outputs": [
    {
     "name": "stdout",
     "output_type": "stream",
     "text": [
      "jogadores em ordem alfabética:  ['Adriano', 'Rivaldo', 'Ronaldo', 'Ronaldo']\n"
     ]
    }
   ],
   "source": [
    "jogadores.sort()\n",
    "print(\"jogadores em ordem alfabética: \", jogadores)"
   ]
  },
  {
   "cell_type": "markdown",
   "metadata": {},
   "source": [
    "    As funções max(lista) e min(lista) obtém, respectivamente, o maior e o menor valor."
   ]
  },
  {
   "cell_type": "code",
   "execution_count": 11,
   "metadata": {},
   "outputs": [
    {
     "name": "stdout",
     "output_type": "stream",
     "text": [
      "[3, 1, 4, 1, 5, 9, 2, 6, 5]\n",
      "Maior =  9 e menor =  1\n"
     ]
    }
   ],
   "source": [
    "digitos = [3, 1, 4, 1, 5, 9, 2, 6, 5]\n",
    "maior = max(digitos)\n",
    "menor = min(digitos)\n",
    "print(digitos)\n",
    "print(\"Maior = \", maior, \"e menor = \", menor)"
   ]
  },
  {
   "cell_type": "markdown",
   "metadata": {},
   "source": [
    "## Tuplas"
   ]
  },
  {
   "cell_type": "code",
   "execution_count": 12,
   "metadata": {},
   "outputs": [
    {
     "name": "stdout",
     "output_type": "stream",
     "text": [
      "7\n",
      "<class 'tuple'>\n",
      "(3, 1, 4, 1, 5, 9, 2, 6, 5)\n",
      "[1, 6, 1, 8]\n",
      "O primeiro vale: 1 e o ultimo vale: 11\n"
     ]
    }
   ],
   "source": [
    "# Uma tupla é uma coleção de objetos que lembra muito as listas.\n",
    "\n",
    "# Ao invés de colchetes, usamos parênteses para declarar as tuplas:\n",
    "numeros = (1,2,3,5,7,11)\n",
    "\n",
    "# Podemos declarar sem parênteses também:\n",
    "numeros = 1,2,3,5,7,11\n",
    "\n",
    "# Para acessar um valor, utilizamos a mesma sintaxe das listas:\n",
    "print(numeros[4])\n",
    "print(type(numeros))\n",
    "\n",
    "'''\n",
    "Porém, tuplas são imutáveis: não é possível adicionar ou modificar valores.\n",
    "Descomentar a linha abaixo provocará erro de execução:\n",
    "'''\n",
    "# numeros[4] = 8\n",
    "\n",
    "# Podemos gerar uma tupla a partir de uma lista...\n",
    "lista1 = [3, 1, 4, 1, 5, 9, 2, 6, 5]\n",
    "tupla1 = tuple(lista1)\n",
    "print(tupla1)\n",
    "\n",
    "# ...ou uma lista a partir de uma tupla:\n",
    "tupla2 = [1, 6, 1, 8]\n",
    "lista2 = list(tupla2)\n",
    "print(lista2)\n",
    "\n",
    "# Também pode-se usar o unpacking com uma tupla:\n",
    "a, b, c, d, e, f = numeros # \"desempacota\" a tupla numeros\n",
    "print(\"O primeiro vale:\", a, \"e o ultimo vale:\", f)"
   ]
  },
  {
   "cell_type": "markdown",
   "metadata": {},
   "source": [
    "AULA:\n",
    "Aula lista"
   ]
  },
  {
   "cell_type": "code",
   "execution_count": 13,
   "metadata": {},
   "outputs": [
    {
     "name": "stdout",
     "output_type": "stream",
     "text": [
      "['Brasil', 'Argentina', 'China', 'Canadá', 'Japão']\n"
     ]
    }
   ],
   "source": [
    "nomes_paises = ['Brasil', 'Argentina', 'China', 'Canadá', 'Japão']\n",
    "print(nomes_paises)"
   ]
  },
  {
   "cell_type": "code",
   "execution_count": 14,
   "metadata": {},
   "outputs": [
    {
     "name": "stdout",
     "output_type": "stream",
     "text": [
      "Tamanho da lista:  5\n"
     ]
    }
   ],
   "source": [
    "print(\"Tamanho da lista: \", len(nomes_paises))"
   ]
  },
  {
   "cell_type": "code",
   "execution_count": 15,
   "metadata": {},
   "outputs": [
    {
     "name": "stdout",
     "output_type": "stream",
     "text": [
      "País:  Japão\n"
     ]
    }
   ],
   "source": [
    "print('País: ', nomes_paises[4])"
   ]
  },
  {
   "cell_type": "code",
   "execution_count": 16,
   "metadata": {},
   "outputs": [
    {
     "name": "stdout",
     "output_type": "stream",
     "text": [
      "País:  Japão\n"
     ]
    }
   ],
   "source": [
    "print('País: ', nomes_paises[-1])"
   ]
  },
  {
   "cell_type": "code",
   "execution_count": 18,
   "metadata": {},
   "outputs": [
    {
     "name": "stdout",
     "output_type": "stream",
     "text": [
      "País:  Colômbia\n",
      "['Brasil', 'Argentina', 'China', 'Canadá', 'Colômbia']\n"
     ]
    }
   ],
   "source": [
    "nomes_paises[4] = 'Colômbia'\n",
    "print('País: ', nomes_paises[4])\n",
    "print(nomes_paises)"
   ]
  },
  {
   "cell_type": "code",
   "execution_count": 19,
   "metadata": {},
   "outputs": [
    {
     "ename": "IndexError",
     "evalue": "list assignment index out of range",
     "output_type": "error",
     "traceback": [
      "\u001b[1;31m---------------------------------------------------------------------------\u001b[0m",
      "\u001b[1;31mIndexError\u001b[0m                                Traceback (most recent call last)",
      "\u001b[1;32m<ipython-input-19-f36ce9dec946>\u001b[0m in \u001b[0;36m<module>\u001b[1;34m\u001b[0m\n\u001b[1;32m----> 1\u001b[1;33m \u001b[0mnomes_paises\u001b[0m\u001b[1;33m[\u001b[0m\u001b[1;36m5\u001b[0m\u001b[1;33m]\u001b[0m \u001b[1;33m=\u001b[0m \u001b[1;34m'Chile'\u001b[0m\u001b[1;33m\u001b[0m\u001b[1;33m\u001b[0m\u001b[0m\n\u001b[0m",
      "\u001b[1;31mIndexError\u001b[0m: list assignment index out of range"
     ]
    }
   ],
   "source": [
    "nomes_paises[5] = 'Chile'"
   ]
  },
  {
   "cell_type": "code",
   "execution_count": 21,
   "metadata": {},
   "outputs": [
    {
     "name": "stdout",
     "output_type": "stream",
     "text": [
      "['China', 'Canadá']\n"
     ]
    }
   ],
   "source": [
    "print(nomes_paises[2:4]) #operação slice"
   ]
  },
  {
   "cell_type": "code",
   "execution_count": 22,
   "metadata": {},
   "outputs": [
    {
     "name": "stdout",
     "output_type": "stream",
     "text": [
      "['Argentina', 'China', 'Canadá']\n"
     ]
    }
   ],
   "source": [
    "print(nomes_paises[1:-1]) "
   ]
  },
  {
   "cell_type": "code",
   "execution_count": 23,
   "metadata": {},
   "outputs": [
    {
     "name": "stdout",
     "output_type": "stream",
     "text": [
      "['China', 'Canadá', 'Colômbia']\n"
     ]
    }
   ],
   "source": [
    "print(nomes_paises[2:]) "
   ]
  },
  {
   "cell_type": "code",
   "execution_count": 24,
   "metadata": {},
   "outputs": [
    {
     "name": "stdout",
     "output_type": "stream",
     "text": [
      "['Brasil', 'Argentina', 'China']\n"
     ]
    }
   ],
   "source": [
    "print(nomes_paises[:3]) "
   ]
  },
  {
   "cell_type": "code",
   "execution_count": 25,
   "metadata": {},
   "outputs": [
    {
     "name": "stdout",
     "output_type": "stream",
     "text": [
      "['Brasil', 'Argentina', 'China', 'Canadá', 'Colômbia']\n"
     ]
    }
   ],
   "source": [
    "print(nomes_paises[:]) "
   ]
  },
  {
   "cell_type": "code",
   "execution_count": 26,
   "metadata": {},
   "outputs": [
    {
     "name": "stdout",
     "output_type": "stream",
     "text": [
      "['Brasil', 'China', 'Colômbia']\n"
     ]
    }
   ],
   "source": [
    "print(nomes_paises[::2]) #pula de 2 em 2"
   ]
  },
  {
   "cell_type": "code",
   "execution_count": 28,
   "metadata": {},
   "outputs": [
    {
     "name": "stdout",
     "output_type": "stream",
     "text": [
      "['Colômbia', 'China', 'Brasil']\n"
     ]
    }
   ],
   "source": [
    "print(nomes_paises[::-2]) #pula de 2 em 2 de trás para frente"
   ]
  },
  {
   "cell_type": "code",
   "execution_count": 29,
   "metadata": {},
   "outputs": [
    {
     "name": "stdout",
     "output_type": "stream",
     "text": [
      "['Colômbia', 'Canadá', 'China', 'Argentina', 'Brasil']\n"
     ]
    }
   ],
   "source": [
    "print(nomes_paises[::-1]) #inverte a lista"
   ]
  },
  {
   "cell_type": "code",
   "execution_count": 31,
   "metadata": {},
   "outputs": [
    {
     "name": "stdout",
     "output_type": "stream",
     "text": [
      "True\n"
     ]
    }
   ],
   "source": [
    "print(\"Brasil\" in nomes_paises)"
   ]
  },
  {
   "cell_type": "code",
   "execution_count": 34,
   "metadata": {},
   "outputs": [
    {
     "name": "stdout",
     "output_type": "stream",
     "text": [
      "False\n"
     ]
    }
   ],
   "source": [
    "print(\"Canadá\" not in nomes_paises)"
   ]
  },
  {
   "cell_type": "code",
   "execution_count": 40,
   "metadata": {},
   "outputs": [],
   "source": [
    "lista_capitais = []"
   ]
  },
  {
   "cell_type": "code",
   "execution_count": 41,
   "metadata": {},
   "outputs": [
    {
     "name": "stdout",
     "output_type": "stream",
     "text": [
      "['Brasília', 'Buenos Aires', 'Berlim', 'Bogotá']\n"
     ]
    }
   ],
   "source": [
    "lista_capitais.append(\"Brasília\")\n",
    "lista_capitais.append(\"Buenos Aires\")\n",
    "lista_capitais.append(\"Berlim\")\n",
    "lista_capitais.append(\"Bogotá\")\n",
    "\n",
    "print(lista_capitais)"
   ]
  },
  {
   "cell_type": "code",
   "execution_count": 42,
   "metadata": {},
   "outputs": [
    {
     "name": "stdout",
     "output_type": "stream",
     "text": [
      "['Brasília', 'Buenos Aires', 'Paris', 'Berlim', 'Bogotá']\n"
     ]
    }
   ],
   "source": [
    "lista_capitais.insert(2, \"Paris\")\n",
    "\n",
    "print(lista_capitais)"
   ]
  },
  {
   "cell_type": "code",
   "execution_count": 43,
   "metadata": {},
   "outputs": [
    {
     "name": "stdout",
     "output_type": "stream",
     "text": [
      "['Brasília', 'Buenos Aires', 'Paris', 'Berlim', 'Bogotá']\n",
      "['Brasília', 'Paris', 'Berlim', 'Bogotá']\n"
     ]
    }
   ],
   "source": [
    "print(lista_capitais)\n",
    "lista_capitais.remove(\"Buenos Aires\")\n",
    "print(lista_capitais)"
   ]
  },
  {
   "cell_type": "code",
   "execution_count": 44,
   "metadata": {},
   "outputs": [
    {
     "name": "stdout",
     "output_type": "stream",
     "text": [
      "['Brasília', 'Paris', 'Bogotá'] Berlim\n"
     ]
    }
   ],
   "source": [
    "removido = lista_capitais.pop(2)\n",
    "print(lista_capitais, removido)"
   ]
  },
  {
   "cell_type": "markdown",
   "metadata": {},
   "source": [
    "Aula tupla\n",
    "\n",
    "Difereça entre lista e tupla: tupla não é flexivel igual a lista. Não se pode fazer alterações.\n",
    "\n",
    "Tupla tem algumas funções que a lista não tem.\n",
    "Tupla é mais leve para armazenar."
   ]
  },
  {
   "cell_type": "code",
   "execution_count": 57,
   "metadata": {},
   "outputs": [
    {
     "name": "stdout",
     "output_type": "stream",
     "text": [
      "('Brasil', 'Argentina', 'China', 'Canadá', 'Japão')\n",
      "<class 'tuple'>\n"
     ]
    }
   ],
   "source": [
    "nomes_paises = ('Brasil', 'Argentina', 'China', 'Canadá', 'Japão')\n",
    "print(nomes_paises)\n",
    "print(type(nomes_paises))"
   ]
  },
  {
   "cell_type": "code",
   "execution_count": 58,
   "metadata": {},
   "outputs": [
    {
     "name": "stdout",
     "output_type": "stream",
     "text": [
      "('Brasil', 'Argentina', 'China', 'Canadá', 'Japão')\n",
      "<class 'tuple'>\n"
     ]
    }
   ],
   "source": [
    "nomes_paises = 'Brasil', 'Argentina', 'China', 'Canadá', 'Japão'\n",
    "print(nomes_paises)\n",
    "print(type(nomes_paises))"
   ]
  },
  {
   "cell_type": "code",
   "execution_count": 51,
   "metadata": {},
   "outputs": [
    {
     "name": "stdout",
     "output_type": "stream",
     "text": [
      "('São Paulo',)\n",
      "<class 'tuple'>\n"
     ]
    }
   ],
   "source": [
    "nome_estado = 'São Paulo',\n",
    "print(nome_estado)\n",
    "print(type(nome_estado))"
   ]
  },
  {
   "cell_type": "code",
   "execution_count": 59,
   "metadata": {},
   "outputs": [
    {
     "data": {
      "text/plain": [
       "5"
      ]
     },
     "execution_count": 59,
     "metadata": {},
     "output_type": "execute_result"
    }
   ],
   "source": [
    "len(nomes_paises)"
   ]
  },
  {
   "cell_type": "code",
   "execution_count": 60,
   "metadata": {},
   "outputs": [
    {
     "data": {
      "text/plain": [
       "'Brasil'"
      ]
     },
     "execution_count": 60,
     "metadata": {},
     "output_type": "execute_result"
    }
   ],
   "source": [
    "nomes_paises[0]"
   ]
  },
  {
   "cell_type": "code",
   "execution_count": 65,
   "metadata": {},
   "outputs": [
    {
     "name": "stdout",
     "output_type": "stream",
     "text": [
      "('Brasil', 'Argentina', 'China', 'Canadá', 'Japão')\n",
      "Brasil China Japão\n"
     ]
    }
   ],
   "source": [
    "#operação unpaking não pode ser feito na lista. somente na tupla\n",
    "\n",
    "print(nomes_paises)\n",
    "b, a, c, ca, j = nomes_paises\n",
    "\n",
    "print(b, c, j)"
   ]
  },
  {
   "cell_type": "code",
   "execution_count": 66,
   "metadata": {},
   "outputs": [
    {
     "name": "stdout",
     "output_type": "stream",
     "text": [
      "Brasil Argentina China Canadá Japão\n"
     ]
    }
   ],
   "source": [
    "print(*nomes_paises)"
   ]
  },
  {
   "cell_type": "markdown",
   "metadata": {},
   "source": [
    "# AULA 01 - Strings I\n",
    "## Funções de Strings"
   ]
  },
  {
   "cell_type": "code",
   "execution_count": 67,
   "metadata": {},
   "outputs": [
    {
     "name": "stdout",
     "output_type": "stream",
     "text": [
      "u\n",
      "m\n",
      "a\n",
      "A frase possui 9 caracteres\n",
      "['u', 'm', 'a', ' ', 'F', 'R', 'A', 'S', 'E']\n",
      "u-pym-pya-py -pyF-pyR-pyA-pyS-pyE\n",
      "uma FRASE\n",
      "Uma frase\n",
      "Uma Frase\n",
      "UMA FRASE\n",
      "uma frase\n",
      "uma CRASE\n",
      "String original: uma FRASE\n",
      "['uma', 'FRASE']\n",
      "['UM', ' FR', 'SE']\n",
      "uma\n",
      "FRASE\n",
      "uma\n",
      "\tFRASE\n"
     ]
    }
   ],
   "source": [
    "# Suponhamos que temos a seguinte string:\n",
    "\n",
    "frase = 'uma FRASE'\n",
    "\n",
    "# Podemos acessar individualmente cada caractere em uma frase.\n",
    "# A ideia é a mesma de acessar uma lista:\n",
    "print(frase[0])\n",
    "print(frase[1])\n",
    "print(frase[2])\n",
    "\n",
    "tamanho = len(frase)\n",
    "print(\"A frase possui\", tamanho, \"caracteres\")\n",
    "\n",
    "# Porém, strings são imutáveis: não podemos alterar caracteres individuais\n",
    "# A linha abaixo, se for descomentada, dará erro no programa:\n",
    "# frase[4] = 'C'\n",
    "\n",
    "# Podemos converter strings para listas:\n",
    "listafrase = list(frase)\n",
    "print(listafrase)\n",
    "\n",
    "# A função join() intercala cada elemento de uma lista com uma string.\n",
    "stringfinal = '-py'.join(listafrase)\n",
    "print(stringfinal)\n",
    "\n",
    "# Usar um join() com uma string vazia é útil para transformar a lista de volta\n",
    "# em string:\n",
    "stringfinal = ''.join(listafrase)\n",
    "print(stringfinal)\n",
    "\n",
    "# Existem algumas funções interessantes que retornam a string \"tratada\":\n",
    "s1 = frase.capitalize() # 1a letra maiúscula, restante minúscula\n",
    "s2 = frase.title() # todo início de palavra em maiúscula, resto minúscula\n",
    "s3 = frase.upper() # string inteira em maiúscula\n",
    "s4 = frase.lower() # string inteira em minúscula\n",
    "s5 = frase.replace('F', 'C') # substitui a primeira substring pela segunda\n",
    "\n",
    "print(s1)\n",
    "print(s2)\n",
    "print(s3)\n",
    "print(s4)\n",
    "print(s5)\n",
    "# Note que NENHUMA delas ALTERA a string original, elas sempre retornam\n",
    "# a string nova.\n",
    "print('String original:', frase)\n",
    "\n",
    "# Outra possibilidade com strings é quebrar a string em uma lista de substrings\n",
    "# Sempre que o caractere especificado é encontrado, a string é quebrada\n",
    "quebra1 = frase.split(' ') # quebra a frase no caractere espaço em branco\n",
    "quebra2 = s3.split('A') # quebra a frase em maiúsculas no caractere 'A'\n",
    "\n",
    "print(quebra1)\n",
    "print(quebra2)\n",
    "\n",
    "# Podemos inserir quebras de linha com '\\n'\n",
    "frase = 'uma\\nFRASE'\n",
    "print(frase)\n",
    "# Podemos inserir tabulação com '\\t'\n",
    "frase = 'uma\\n\\tFRASE'\n",
    "print(frase)\n",
    "# Para conseguir representar a barra '\\', precisamos de 2 barras:\n",
    "frase = 'uma\\\\FRASE'"
   ]
  },
  {
   "cell_type": "markdown",
   "metadata": {},
   "source": [
    "AULA"
   ]
  },
  {
   "cell_type": "code",
   "execution_count": 68,
   "metadata": {},
   "outputs": [
    {
     "name": "stdout",
     "output_type": "stream",
     "text": [
      "Google\n"
     ]
    }
   ],
   "source": [
    "empresa = 'Google'\n",
    "print(empresa)"
   ]
  },
  {
   "cell_type": "code",
   "execution_count": 69,
   "metadata": {},
   "outputs": [
    {
     "name": "stdout",
     "output_type": "stream",
     "text": [
      "Google\n"
     ]
    }
   ],
   "source": [
    "empresa = \"Google\"\n",
    "print(empresa)"
   ]
  },
  {
   "cell_type": "code",
   "execution_count": 70,
   "metadata": {},
   "outputs": [
    {
     "ename": "SyntaxError",
     "evalue": "invalid syntax (<ipython-input-70-43c6deb3f727>, line 1)",
     "output_type": "error",
     "traceback": [
      "\u001b[1;36m  File \u001b[1;32m\"<ipython-input-70-43c6deb3f727>\"\u001b[1;36m, line \u001b[1;32m1\u001b[0m\n\u001b[1;33m    empresa = 'Let's Code'\u001b[0m\n\u001b[1;37m                   ^\u001b[0m\n\u001b[1;31mSyntaxError\u001b[0m\u001b[1;31m:\u001b[0m invalid syntax\n"
     ]
    }
   ],
   "source": [
    "empresa = 'Let's Code'"
   ]
  },
  {
   "cell_type": "code",
   "execution_count": 72,
   "metadata": {},
   "outputs": [
    {
     "name": "stdout",
     "output_type": "stream",
     "text": [
      "Let's Code\n"
     ]
    }
   ],
   "source": [
    "empresa = \"Let's Code\"\n",
    "print(empresa)"
   ]
  },
  {
   "cell_type": "code",
   "execution_count": 73,
   "metadata": {},
   "outputs": [
    {
     "ename": "SyntaxError",
     "evalue": "invalid syntax (<ipython-input-73-4a68c9c48dd5>, line 1)",
     "output_type": "error",
     "traceback": [
      "\u001b[1;36m  File \u001b[1;32m\"<ipython-input-73-4a68c9c48dd5>\"\u001b[1;36m, line \u001b[1;32m1\u001b[0m\n\u001b[1;33m    frase = \"o professor Pietro da Let's Code disse: \"Hoje a pizza é por minh conta\"\"\u001b[0m\n\u001b[1;37m                                                         ^\u001b[0m\n\u001b[1;31mSyntaxError\u001b[0m\u001b[1;31m:\u001b[0m invalid syntax\n"
     ]
    }
   ],
   "source": [
    "frase = \"o professor Pietro da Let's Code disse: \"Hoje a pizza é por minh conta\"\""
   ]
  },
  {
   "cell_type": "code",
   "execution_count": 75,
   "metadata": {},
   "outputs": [
    {
     "name": "stdout",
     "output_type": "stream",
     "text": [
      "o professor Pietro da Let's Code disse: \"Hoje a pizza é por minh conta\"\n"
     ]
    }
   ],
   "source": [
    "frase = \"o professor Pietro da Let's Code disse: \\\"Hoje a pizza é por minh conta\\\"\"\n",
    "print(frase)"
   ]
  },
  {
   "cell_type": "code",
   "execution_count": 76,
   "metadata": {},
   "outputs": [
    {
     "name": "stdout",
     "output_type": "stream",
     "text": [
      "G\n"
     ]
    }
   ],
   "source": [
    "empresa = \"Google\"\n",
    "print(empresa[0])"
   ]
  },
  {
   "cell_type": "code",
   "execution_count": 77,
   "metadata": {},
   "outputs": [
    {
     "name": "stdout",
     "output_type": "stream",
     "text": [
      "og\n"
     ]
    }
   ],
   "source": [
    "print(empresa[2:4])"
   ]
  },
  {
   "cell_type": "code",
   "execution_count": 78,
   "metadata": {},
   "outputs": [
    {
     "name": "stdout",
     "output_type": "stream",
     "text": [
      "Goog\n"
     ]
    }
   ],
   "source": [
    "print(empresa[:4])"
   ]
  },
  {
   "cell_type": "code",
   "execution_count": 80,
   "metadata": {},
   "outputs": [
    {
     "name": "stdout",
     "output_type": "stream",
     "text": [
      "Googl\n"
     ]
    }
   ],
   "source": [
    "print(empresa[0:-1])"
   ]
  },
  {
   "cell_type": "code",
   "execution_count": 81,
   "metadata": {},
   "outputs": [
    {
     "name": "stdout",
     "output_type": "stream",
     "text": [
      "Googl\n"
     ]
    }
   ],
   "source": [
    "print(empresa[:-1])"
   ]
  },
  {
   "cell_type": "code",
   "execution_count": 82,
   "metadata": {},
   "outputs": [
    {
     "name": "stdout",
     "output_type": "stream",
     "text": [
      "elgooG\n"
     ]
    }
   ],
   "source": [
    "print(empresa[::-1])"
   ]
  },
  {
   "cell_type": "markdown",
   "metadata": {},
   "source": [
    "### split"
   ]
  },
  {
   "cell_type": "code",
   "execution_count": 85,
   "metadata": {},
   "outputs": [
    {
     "name": "stdout",
     "output_type": "stream",
     "text": [
      "São Paulo, Belo Horizonte, Rio de Janeiro, Brasília\n",
      "<class 'str'>\n",
      "['São Paulo', 'Belo Horizonte', 'Rio de Janeiro', 'Brasília']\n",
      "<class 'list'>\n"
     ]
    }
   ],
   "source": [
    "nomes_cidades = \"São Paulo, Belo Horizonte, Rio de Janeiro, Brasília\"\n",
    "print(nomes_cidades)\n",
    "print(type(nomes_cidades))\n",
    "\n",
    "nomes_cidades = nomes_cidades.split(', ')\n",
    "print(nomes_cidades)\n",
    "print(type(nomes_cidades))"
   ]
  },
  {
   "cell_type": "markdown",
   "metadata": {},
   "source": [
    "### strip"
   ]
  },
  {
   "cell_type": "code",
   "execution_count": 88,
   "metadata": {},
   "outputs": [
    {
     "name": "stdout",
     "output_type": "stream",
     "text": [
      "           MENU PRINCIPAL               \n",
      "MENU PRINCIPAL\n"
     ]
    }
   ],
   "source": [
    "cabecalho = \"           MENU PRINCIPAL               \"\n",
    "print(cabecalho)\n",
    "print(cabecalho.strip())"
   ]
  },
  {
   "cell_type": "code",
   "execution_count": 91,
   "metadata": {},
   "outputs": [
    {
     "name": "stdout",
     "output_type": "stream",
     "text": [
      "Frase:  rIO DE JAneiRo\n",
      "title:  Rio De Janeiro\n",
      "capitalize:  Rio de janeiro\n",
      "lower:  rio de janeiro\n",
      "upper:  RIO DE JANEIRO\n"
     ]
    }
   ],
   "source": [
    "nome_cidade = \"rIO DE JAneiRo\"\n",
    "\n",
    "print(\"Frase: \",nome_cidade)\n",
    "print(\"title: \",nome_cidade.title())\n",
    "print(\"capitalize: \",nome_cidade.capitalize())\n",
    "print(\"lower: \",nome_cidade.lower())\n",
    "print(\"upper: \",nome_cidade.upper())"
   ]
  },
  {
   "cell_type": "code",
   "execution_count": 94,
   "metadata": {},
   "outputs": [
    {
     "name": "stdout",
     "output_type": "stream",
     "text": [
      "Qual cidade do Brasil é conhecida como Cidade Matvilhosa?bh\n",
      "tente novamente!\n",
      "Qual cidade do Brasil é conhecida como Cidade Matvilhosa?Rio de Janeiro\n",
      "Boa, campeão!\n"
     ]
    }
   ],
   "source": [
    "nome_cidade = input(\"Qual cidade do Brasil é conhecida como Cidade Matvilhosa?\")\n",
    "nome_cidade = nome_cidade.strip()\n",
    "\n",
    "while nome_cidade.lower() != \"rio de janeiro\":\n",
    "    print(\"tente novamente!\")\n",
    "    nome_cidade = input(\"Qual cidade do Brasil é conhecida como Cidade Matvilhosa?\")\n",
    "    \n",
    "print(\"Boa, campeão!\")"
   ]
  },
  {
   "cell_type": "code",
   "execution_count": 95,
   "metadata": {},
   "outputs": [
    {
     "name": "stdout",
     "output_type": "stream",
     "text": [
      "True\n"
     ]
    }
   ],
   "source": [
    "mensagem = \"Você viu o que o Pietro na sala ontem?\"\n",
    "fui_citado = 'Pietro' in mensagem\n",
    "print(fui_citado)"
   ]
  },
  {
   "cell_type": "code",
   "execution_count": 96,
   "metadata": {},
   "outputs": [
    {
     "name": "stdout",
     "output_type": "stream",
     "text": [
      "False\n"
     ]
    }
   ],
   "source": [
    "mensagem = \"Você viu o que o Pietro na sala ontem?\"\n",
    "fui_citado = 'Barbara' in mensagem\n",
    "print(fui_citado)"
   ]
  },
  {
   "cell_type": "markdown",
   "metadata": {},
   "source": [
    "# AULA 03 - Strings II\n",
    "## Uso de operadores aritméticos com strings"
   ]
  },
  {
   "cell_type": "code",
   "execution_count": 97,
   "metadata": {},
   "outputs": [
    {
     "name": "stdout",
     "output_type": "stream",
     "text": [
      "Let'sCode\n",
      "umaumauma\n"
     ]
    }
   ],
   "source": [
    "# Dois operadores aritméticos possuem um comportamento especial em strings:\n",
    "# Operador de soma (+): concatena (une) 2 strings.\n",
    "palavra1 = \"Let's\"\n",
    "palavra2 = \"Code\"\n",
    "palavra3 = palavra1 + palavra2\n",
    "print(palavra3)\n",
    "\n",
    "# Operador de multiplicação (*): copia uma string 'n' vezes:\n",
    "palavra = 'uma'\n",
    "trespalavras = 3*palavra\n",
    "print(trespalavras)"
   ]
  },
  {
   "cell_type": "markdown",
   "metadata": {},
   "source": [
    "## Formatação de strings\n",
    "Uma última função interessante de strings é o .format() Para entender como ela funciona, podemos pensar em um contrato. É normal que ele venha com campos em branco para serem preenchidos posteriormente. Ex:\n",
    "\n",
    "Eu, ______________, portador do RG ________________ e nascido ao dia //, autorizo o uso de minha imagem.\n",
    "\n",
    "Ao inserirmos no contrato nossas informações pessoais, ele se torna completo.\n",
    "\n",
    "O .format() serve para \"preencher\" os \"campos em branco\" de uma string.\n",
    "\n",
    "Os campos em branco serão representados por pares de chave: {}"
   ]
  },
  {
   "cell_type": "code",
   "execution_count": 98,
   "metadata": {},
   "outputs": [
    {
     "name": "stdout",
     "output_type": "stream",
     "text": [
      "O produto chocolate custa 3.14.\n",
      "O litro da gasolina custa 3.14\n",
      "c, b and a\n",
      "abracadabra\n",
      "1/8/2019\n",
      " 1/ 8/2019\n",
      "01/08/2019\n",
      "Pietro é professor da Let's Code.\n"
     ]
    }
   ],
   "source": [
    "prod = 'chocolate'\n",
    "preco = 3.14\n",
    "print('O produto {} custa {}.'.format(prod, preco))\n",
    "\n",
    "# Na linha acima, prod substituirá o primeiro {}, e preco o segundo {}.\n",
    "# Saída: O produto chocolate custa 3.14.\n",
    "\n",
    "# É possível colocar algumas opções especiais de formatação. Por exemplo:\n",
    "\n",
    "stringoriginal = 'O litro da gasolina custa {:.2f}'\n",
    "'''\n",
    ": indica que passaremos opções\n",
    ".2 indica apenas 2 casas após o ponto decimal\n",
    "f indica que é um float\n",
    "'''\n",
    "preco = 3.14159265\n",
    "stringcompleta = stringoriginal.format(preco)\n",
    "print(stringcompleta)\n",
    "# Saída: O litro da gasolina custa 3.14\n",
    "# O preço sai com apenas 2 casas após a vírgula!\n",
    "\n",
    "# Pode-se chamar as variávies em diferentes ordens:\n",
    "\n",
    "print('{2}, {1} and {0}'.format('a', 'b', 'c'))\n",
    "# Saída: c, b and a\n",
    "\n",
    "print('{0}{1}{0}'.format('abra', 'cad'))\n",
    "# Saída: abracadabra\n",
    "\n",
    "\n",
    "# Podemos especificar um número de dígitos obrigatório por campo.\n",
    "# Vejamos o exemplo:\n",
    "\n",
    "dia = 1\n",
    "mes = 8\n",
    "ano = 2019\n",
    "data1 = '{}/{}/{}'.format(dia, mes, ano)\n",
    "print(data1)\n",
    "# Saída: 1/8/2019\n",
    "# O dia e o mês ocupam apenas 1 espaço\n",
    "\n",
    "\n",
    "data2 = '{:2d}/{:2d}/{:4d}'.format(dia, mes, ano)\n",
    "# A opção 'd' significa que o parâmetro é um número inteiro.\n",
    "print(data2)\n",
    "# Saída:  1/ 8/2019\n",
    "# Agora, dia e mês ocupam obrigatoriamente 2 espaços:  1/ 8/2019\n",
    "\n",
    "# Podemos forçar que os espaços em branco sejam preenchidos com o número 0:\n",
    "data3 = '{:02d}/{:02d}/{:04d}'.format(dia, mes, ano)\n",
    "print(data3)\n",
    "# Saída: 01/08/2019\n",
    "# Agora sim a data está no formato usual, dd/mm/aaaa: 01/08/2019\n",
    "\n",
    "# Um modo mais simples de utilizar o format\n",
    "nome = \"Pietro\"\n",
    "profissao = \"professor\"\n",
    "escola = \"Let's Code\"\n",
    "\n",
    "print(f\"{nome} é {profissao} da {escola}.\")\n",
    "# Saída: Pietro é professor da Let's Code."
   ]
  },
  {
   "cell_type": "markdown",
   "metadata": {},
   "source": [
    "O .format() possui muitas opções interessantes. Há um site inteiro dedicado a explicar e exemplificar todas essas opções: https://pyformat.info/"
   ]
  },
  {
   "cell_type": "markdown",
   "metadata": {},
   "source": [
    "## AULA"
   ]
  },
  {
   "cell_type": "code",
   "execution_count": 99,
   "metadata": {},
   "outputs": [
    {
     "name": "stdout",
     "output_type": "stream",
     "text": [
      "Olá, Felipe\n"
     ]
    }
   ],
   "source": [
    "cumprimento = \"Olá, \"\n",
    "nome = \"Felipe\"\n",
    "print(cumprimento + nome)"
   ]
  },
  {
   "cell_type": "code",
   "execution_count": 100,
   "metadata": {},
   "outputs": [
    {
     "name": "stdout",
     "output_type": "stream",
     "text": [
      "FelipeFelipeFelipeFelipeFelipe\n"
     ]
    }
   ],
   "source": [
    "print(nome * 5)"
   ]
  },
  {
   "cell_type": "code",
   "execution_count": 101,
   "metadata": {
    "scrolled": true
   },
   "outputs": [
    {
     "name": "stdout",
     "output_type": "stream",
     "text": [
      "Felipe Felipe Felipe Felipe Felipe \n"
     ]
    }
   ],
   "source": [
    "print((nome + \" \") * 5)"
   ]
  },
  {
   "cell_type": "code",
   "execution_count": 102,
   "metadata": {},
   "outputs": [
    {
     "ename": "TypeError",
     "evalue": "can only concatenate str (not \"int\") to str",
     "output_type": "error",
     "traceback": [
      "\u001b[1;31m---------------------------------------------------------------------------\u001b[0m",
      "\u001b[1;31mTypeError\u001b[0m                                 Traceback (most recent call last)",
      "\u001b[1;32m<ipython-input-102-c69e35eae209>\u001b[0m in \u001b[0;36m<module>\u001b[1;34m\u001b[0m\n\u001b[0;32m      3\u001b[0m \u001b[0mn_filhos\u001b[0m \u001b[1;33m=\u001b[0m \u001b[1;36m2\u001b[0m\u001b[1;33m\u001b[0m\u001b[1;33m\u001b[0m\u001b[0m\n\u001b[0;32m      4\u001b[0m \u001b[1;33m\u001b[0m\u001b[0m\n\u001b[1;32m----> 5\u001b[1;33m \u001b[0mprint\u001b[0m\u001b[1;33m(\u001b[0m\u001b[0mnome\u001b[0m \u001b[1;33m+\u001b[0m \u001b[1;34m\" tem \"\u001b[0m \u001b[1;33m+\u001b[0m \u001b[0midade\u001b[0m \u001b[1;33m+\u001b[0m \u001b[1;34m\" anos e \"\u001b[0m \u001b[1;33m+\u001b[0m \u001b[0mn_filhos\u001b[0m \u001b[1;33m+\u001b[0m \u001b[1;34m\" filhos\"\u001b[0m\u001b[1;33m)\u001b[0m\u001b[1;33m\u001b[0m\u001b[1;33m\u001b[0m\u001b[0m\n\u001b[0m",
      "\u001b[1;31mTypeError\u001b[0m: can only concatenate str (not \"int\") to str"
     ]
    }
   ],
   "source": [
    "nome = \"Felipe\"\n",
    "idade = 35\n",
    "n_filhos = 2\n",
    "\n",
    "#print(nome + \" tem \" + idade + \" anos e \" + n_filhos + \" filhos\") #errado\n",
    "print(nome + \" tem \" + str(idade) + \" anos e \" + str(n_filhos) + \" filhos\") #certo"
   ]
  },
  {
   "cell_type": "code",
   "execution_count": 103,
   "metadata": {},
   "outputs": [
    {
     "name": "stdout",
     "output_type": "stream",
     "text": [
      "Felipe tem 35 anos e 2 filhos\n"
     ]
    }
   ],
   "source": [
    "print(nome + \" tem \" + str(idade) + \" anos e \" + str(n_filhos) + \" filhos\")"
   ]
  },
  {
   "cell_type": "code",
   "execution_count": 108,
   "metadata": {},
   "outputs": [
    {
     "name": "stdout",
     "output_type": "stream",
     "text": [
      "Felipe tem 35 anos e 2 filhos\n"
     ]
    }
   ],
   "source": [
    "print(\"{} tem {} anos e {} filhos\".format(nome, idade, n_filhos))"
   ]
  },
  {
   "cell_type": "code",
   "execution_count": 107,
   "metadata": {},
   "outputs": [
    {
     "name": "stdout",
     "output_type": "stream",
     "text": [
      "Felipe tem 35 anos e 2 filhos\n"
     ]
    }
   ],
   "source": [
    "print(f'{nome} tem {idade} anos e {n_filhos} filhos')"
   ]
  },
  {
   "cell_type": "code",
   "execution_count": 106,
   "metadata": {},
   "outputs": [
    {
     "name": "stdout",
     "output_type": "stream",
     "text": [
      "O preço da gasolina hoje subiu e está em R$3.48\n"
     ]
    }
   ],
   "source": [
    "preco_gasolina = 3.476\n",
    "print(\"O preço da gasolina hoje subiu e está em R${:.2f}\".format(preco_gasolina)) #:.2f    2 = casa decimaos     f = float"
   ]
  },
  {
   "cell_type": "markdown",
   "metadata": {},
   "source": [
    "# Aula 04 - Dicionários\n",
    "## Dicionários\n",
    "Um dicionário é uma coleção, assim como as listas e as tuplas. Porém, enquanto as tuplas eram indexadas por um índice, os dicionários são indexados por chaves. Todo elemento em um dicionário possui uma chave e um valor. Chaves tipicamente são strings, valores podem ser qualquer tipo de dado."
   ]
  },
  {
   "cell_type": "code",
   "execution_count": 110,
   "metadata": {},
   "outputs": [
    {
     "name": "stdout",
     "output_type": "stream",
     "text": [
      "{'cat': 'gato', 'dog': 'cachorro', 'mouse': 'rato'}\n",
      "<class 'dict'>\n",
      "{'cat': 'gato', 'dog': 'cão', 'mouse': 'rato'}\n",
      "{'Curso': 'Python Pro', 'Linguagem': 'Python', 'Módulo': 2}\n",
      "cat existe!\n",
      "dict_keys(['cat', 'dog', 'mouse'])\n",
      "dict_values(['gato', 'cão', 'rato'])\n",
      "dict_items([('cat', 'gato'), ('dog', 'cão'), ('mouse', 'rato')])\n"
     ]
    }
   ],
   "source": [
    "# O dicionário é definido pelos símbolos { e }\n",
    "\n",
    "dicionario = {}\n",
    "\n",
    "# O dicionário não possui um \"append\".\n",
    "# Adicionamos valores diretamente:\n",
    "\n",
    "dicionario['cat'] = 'gato'\n",
    "dicionario['dog'] = 'cachorro'\n",
    "dicionario['mouse'] = 'rato'\n",
    "\n",
    "print(dicionario)\n",
    "print(type(dicionario))\n",
    "\n",
    "'''\n",
    "Saída:\n",
    "{'cat': 'gato', 'dog': 'cachorro', 'mouse': 'rato'}\n",
    "<class 'dict'>\n",
    "'''\n",
    "\n",
    "# Dicionários, assim como as listas, são mutáveis:\n",
    "dicionario['dog'] = 'cão'\n",
    "print(dicionario)\n",
    "# Saída: {'cat': 'gato', 'dog': 'cão', 'mouse': 'rato'}\n",
    "\n",
    "# Podemos criar o dicionário diretamente também:\n",
    "dicionario2 = {'Curso': 'Python Pro', 'Linguagem':'Python', 'Módulo':2}\n",
    "print(dicionario2)\n",
    "# Saída: {'Curso': 'Python Pro', 'Linguagem': 'Python', 'Módulo': 2}\n",
    "\n",
    "# Podemos utilizar o operador \"in\" para verificar se uma chave existe:\n",
    "if 'cat' in dicionario:\n",
    "    print('cat existe!') # Sim\n",
    "if 'bird' in dicionario:\n",
    "    print('bird existe!') # Não\n",
    "if 'gato' in dicionario:\n",
    "    print('gato existe!') # Não\n",
    "\n",
    "'''\n",
    "Também podemos utilizar as funções .keys() e .values() para obter listas\n",
    "com apenas as chaves ou apenas os valores do dicionário.\n",
    "'''\n",
    "chaves = dicionario.keys()\n",
    "print(chaves)\n",
    "# Saída: dict_keys(['cat', 'dog', 'mouse'])\n",
    "\n",
    "valores = dicionario.values()\n",
    "print(valores)\n",
    "# Saída:dict_values(['gato', 'cão', 'rato'])\n",
    "\n",
    "# Já a função .items(), retorna uma lista de tuplas (chave, valor) de um dicionário\n",
    "\n",
    "itens = dicionario.items()\n",
    "print(itens)\n",
    "# Saída:dict_items([('cat', 'gato'), ('dog', 'cão'), ('mouse', 'rato')])"
   ]
  },
  {
   "cell_type": "markdown",
   "metadata": {},
   "source": [
    "## AULA"
   ]
  },
  {
   "cell_type": "code",
   "execution_count": 111,
   "metadata": {},
   "outputs": [],
   "source": [
    "dados_cidade = {\n",
    "    'nome': 'São Paulo',\n",
    "    'estado': 'São Paulo',\n",
    "    'area_km2': 1521,\n",
    "    'populacao_milhoes': 12.18, #última virgula opcional\n",
    "}"
   ]
  },
  {
   "cell_type": "code",
   "execution_count": 112,
   "metadata": {},
   "outputs": [
    {
     "name": "stdout",
     "output_type": "stream",
     "text": [
      "<class 'dict'>\n"
     ]
    }
   ],
   "source": [
    "print(type(dados_cidade))"
   ]
  },
  {
   "cell_type": "code",
   "execution_count": 113,
   "metadata": {},
   "outputs": [
    {
     "name": "stdout",
     "output_type": "stream",
     "text": [
      "{'nome': 'São Paulo', 'estado': 'São Paulo', 'area_km2': 1521, 'populacao_milhoes': 12.18}\n"
     ]
    }
   ],
   "source": [
    "print(dados_cidade)"
   ]
  },
  {
   "cell_type": "code",
   "execution_count": 115,
   "metadata": {},
   "outputs": [],
   "source": [
    "#adição de novo par chave valor\n",
    "dados_cidade['pais'] = 'Brasil'\n",
    "print(dados_cidade)"
   ]
  },
  {
   "cell_type": "code",
   "execution_count": 117,
   "metadata": {},
   "outputs": [
    {
     "name": "stdout",
     "output_type": "stream",
     "text": [
      "São Paulo\n"
     ]
    }
   ],
   "source": [
    "print(dados_cidade['nome'])"
   ]
  },
  {
   "cell_type": "code",
   "execution_count": 118,
   "metadata": {},
   "outputs": [
    {
     "name": "stdout",
     "output_type": "stream",
     "text": [
      "1521\n",
      "1500\n"
     ]
    }
   ],
   "source": [
    "print(dados_cidade['area_km2'])\n",
    "dados_cidade['area_km2'] = 1500\n",
    "print(dados_cidade['area_km2'])"
   ]
  },
  {
   "cell_type": "code",
   "execution_count": 123,
   "metadata": {},
   "outputs": [
    {
     "name": "stdout",
     "output_type": "stream",
     "text": [
      "{'nome': 'Santos', 'estado': 'São Paulo', 'area_km2': 1500, 'populacao_milhoes': 12.18, 'pais': 'Brasil'}\n",
      "{'nome': 'Santos', 'estado': 'São Paulo', 'area_km2': 1500, 'populacao_milhoes': 12.18, 'pais': 'Brasil'}\n"
     ]
    }
   ],
   "source": [
    "#ao mudar o valor, muda para todos os dicionários\n",
    "\n",
    "dados_cidade2 = dados_cidade\n",
    "dados_cidade2['nome'] = 'Santos'\n",
    "\n",
    "print(dados_cidade)\n",
    "print(dados_cidade2)"
   ]
  },
  {
   "cell_type": "code",
   "execution_count": 124,
   "metadata": {},
   "outputs": [
    {
     "name": "stdout",
     "output_type": "stream",
     "text": [
      "{'nome': 'Santos', 'estado': 'São Paulo', 'area_km2': 1500, 'populacao_milhoes': 12.18, 'pais': 'Brasil'}\n",
      "{'nome': 'Santos', 'estado': 'São Paulo', 'area_km2': 1500, 'populacao_milhoes': 12.18, 'pais': 'Brasil'}\n",
      "{'nome': 'São Carlos', 'estado': 'São Paulo', 'area_km2': 1500, 'populacao_milhoes': 12.18, 'pais': 'Brasil'}\n"
     ]
    }
   ],
   "source": [
    "dados_cidade3 = dados_cidade.copy()\n",
    "\n",
    "dados_cidade3['nome'] = 'São Carlos'\n",
    "\n",
    "print(dados_cidade) #não foi alterado\n",
    "print(dados_cidade2) #não foi alterado\n",
    "print(dados_cidade3)"
   ]
  },
  {
   "cell_type": "code",
   "execution_count": 126,
   "metadata": {},
   "outputs": [
    {
     "name": "stdout",
     "output_type": "stream",
     "text": [
      "{'nome': 'Santos', 'estado': 'São Paulo', 'area_km2': 1500, 'populacao_milhoes': 15, 'pais': 'Brasil', 'fundacao': '25/01/1554'}\n"
     ]
    }
   ],
   "source": [
    "novos_dados = {\n",
    "    'populacao_milhoes': 15,\n",
    "    'fundacao': '25/01/1554'\n",
    "}\n",
    "\n",
    "#para atualizar o dicionario com os novos dados\n",
    "\n",
    "dados_cidade.update(novos_dados)\n",
    "print(dados_cidade)"
   ]
  },
  {
   "cell_type": "code",
   "execution_count": 127,
   "metadata": {},
   "outputs": [
    {
     "ename": "KeyError",
     "evalue": "'prefeito'",
     "output_type": "error",
     "traceback": [
      "\u001b[1;31m---------------------------------------------------------------------------\u001b[0m",
      "\u001b[1;31mKeyError\u001b[0m                                  Traceback (most recent call last)",
      "\u001b[1;32m<ipython-input-127-18520cdb263f>\u001b[0m in \u001b[0;36m<module>\u001b[1;34m\u001b[0m\n\u001b[0;32m      1\u001b[0m \u001b[1;31m#não existe essa chave no dicionario\u001b[0m\u001b[1;33m\u001b[0m\u001b[1;33m\u001b[0m\u001b[1;33m\u001b[0m\u001b[0m\n\u001b[1;32m----> 2\u001b[1;33m \u001b[0mdados_cidade\u001b[0m\u001b[1;33m[\u001b[0m\u001b[1;34m'prefeito'\u001b[0m\u001b[1;33m]\u001b[0m\u001b[1;33m\u001b[0m\u001b[1;33m\u001b[0m\u001b[0m\n\u001b[0m",
      "\u001b[1;31mKeyError\u001b[0m: 'prefeito'"
     ]
    }
   ],
   "source": [
    "#não existe essa chave no dicionario\n",
    "dados_cidade['prefeito']"
   ]
  },
  {
   "cell_type": "code",
   "execution_count": 131,
   "metadata": {},
   "outputs": [
    {
     "name": "stdout",
     "output_type": "stream",
     "text": [
      "None\n",
      "25/01/1554\n"
     ]
    }
   ],
   "source": [
    "#para verificar se existe a chave prefeito\n",
    "print(dados_cidade.get('prefeito'))\n",
    "print(dados_cidade.get('fundacao'))"
   ]
  },
  {
   "cell_type": "code",
   "execution_count": 132,
   "metadata": {},
   "outputs": [
    {
     "name": "stdout",
     "output_type": "stream",
     "text": [
      "dict_keys(['nome', 'estado', 'area_km2', 'populacao_milhoes', 'pais', 'fundacao'])\n",
      "----\n",
      "dict_values(['Santos', 'São Paulo', 1500, 15, 'Brasil', '25/01/1554'])\n",
      "----\n",
      "dict_items([('nome', 'Santos'), ('estado', 'São Paulo'), ('area_km2', 1500), ('populacao_milhoes', 15), ('pais', 'Brasil'), ('fundacao', '25/01/1554')])\n"
     ]
    }
   ],
   "source": [
    "#transforma dicionario em lista\n",
    "print(dados_cidade.keys()) #retorna uma lista de chaves de um dicionario\n",
    "print(\"----\")\n",
    "print(dados_cidade.values()) #retorna uma lista de valores de um dicionario\n",
    "print(\"----\")\n",
    "print(dados_cidade.items()) #retorna uma lista de chaves de um dicionario\n"
   ]
  },
  {
   "cell_type": "markdown",
   "metadata": {},
   "source": [
    "# Aula 05 - Estruturas de Repetição - For\n",
    "## Percorrendo coleções\n",
    "O for é um tipo especial de loop feito para percorrer elementos de uma coleção. Acima vimos exemplos usando um while e um contador para percorrer uma lista. O for elimina a necessidade de inicializarmos um contador, incrementarmos e verificar a condição de parada. Sintaxe:"
   ]
  },
  {
   "cell_type": "code",
   "execution_count": 133,
   "metadata": {},
   "outputs": [
    {
     "ename": "SyntaxError",
     "evalue": "invalid syntax (<ipython-input-133-e8e3c592a432>, line 1)",
     "output_type": "error",
     "traceback": [
      "\u001b[1;36m  File \u001b[1;32m\"<ipython-input-133-e8e3c592a432>\"\u001b[1;36m, line \u001b[1;32m1\u001b[0m\n\u001b[1;33m    for (variável temporária) in (lista):\u001b[0m\n\u001b[1;37m                           ^\u001b[0m\n\u001b[1;31mSyntaxError\u001b[0m\u001b[1;31m:\u001b[0m invalid syntax\n"
     ]
    }
   ],
   "source": [
    "for (variável temporária) in (lista):\n",
    "    # instruções...\n",
    "    # ..."
   ]
  },
  {
   "cell_type": "markdown",
   "metadata": {},
   "source": [
    "O for se repete uma vez para cada elemento da lista. A cada repetição, a variável temporária assume o valor de um elemento da lista, na ordem da lista."
   ]
  },
  {
   "cell_type": "code",
   "execution_count": 134,
   "metadata": {},
   "outputs": [
    {
     "name": "stdout",
     "output_type": "stream",
     "text": [
      "1\n",
      "1\n",
      "2\n",
      "3\n",
      "5\n",
      "8\n",
      "13\n"
     ]
    }
   ],
   "source": [
    "fib = [1, 1, 2, 3, 5, 8, 13]\n",
    "for elemento in fib:\n",
    "    print(elemento)"
   ]
  },
  {
   "cell_type": "markdown",
   "metadata": {},
   "source": [
    "## Percorrendo sequências numéricas\n",
    "O for pode ser usado, junto com a função range(), para gerar sequências numéricas e contagens. Existem 3 meios de usar o range(): especificando 1, 2 ou 3 parâmetros."
   ]
  },
  {
   "cell_type": "code",
   "execution_count": 135,
   "metadata": {},
   "outputs": [
    {
     "name": "stdout",
     "output_type": "stream",
     "text": [
      "0\n",
      "1\n",
      "2\n",
      "3\n",
      "4\n",
      "5\n",
      "6\n",
      "7\n",
      "8\n",
      "9\n",
      "1\n",
      "2\n",
      "3\n",
      "4\n",
      "5\n",
      "6\n",
      "7\n",
      "8\n",
      "9\n",
      "10\n",
      "1\n",
      "3\n",
      "5\n",
      "7\n",
      "9\n",
      "11\n",
      "13\n",
      "15\n",
      "17\n",
      "19\n",
      "10\n",
      "9\n",
      "8\n",
      "7\n",
      "6\n",
      "5\n",
      "4\n",
      "3\n",
      "2\n",
      "1\n"
     ]
    }
   ],
   "source": [
    "# Com 1 parâmetro, ele será interpretado como valor final (exclusivo).\n",
    "# O valor inicial será 0 e o incremento será 1.\n",
    "\n",
    "for numero in range(10):\n",
    "    print(numero)\n",
    "    # este exemplo imprime os números de 0 a 9, de um em um\n",
    "\n",
    "# Com 2 parâmetros, o primeiro será o valor inicial (inclusivo) e o\n",
    "# segundo será o final (exclusivo).\n",
    "# O incremento continuará sendo 1.\n",
    "\n",
    "for numero in range(1,11):\n",
    "    print(numero)\n",
    "    # este exemplo imprime os números de 1 a 10, de um em um\n",
    "\n",
    "# Com 3 parâmetros, o terceiro será interpretado como incremento.\n",
    "for numero in range(1,20,2):\n",
    "    print(numero)\n",
    "    # este exemplo imprime os ímpares positivos menores do que 20\n",
    "    # ele começa valendo 1 e salta de 2 em 2 até atingir ou passar 20\n",
    "\n",
    "# O incremento pode ser também um decremento (incremento negativo).\n",
    "for numero in range (10,0,-1):\n",
    "    print(numero)\n",
    "    #Imprimindo os números de 1 a 10 em ordem decrescente"
   ]
  },
  {
   "cell_type": "markdown",
   "metadata": {},
   "source": [
    "AULA"
   ]
  },
  {
   "cell_type": "markdown",
   "metadata": {},
   "source": [
    "# ********* TEM MAIS CONTEÚDO NO VÍDEO *********** "
   ]
  },
  {
   "cell_type": "code",
   "execution_count": 139,
   "metadata": {},
   "outputs": [
    {
     "name": "stdout",
     "output_type": "stream",
     "text": [
      "('Brasil', 'Argentina', 'China', 'Canadá', 'Japão')\n"
     ]
    }
   ],
   "source": [
    "print(nome_paises)"
   ]
  },
  {
   "cell_type": "code",
   "execution_count": 141,
   "metadata": {},
   "outputs": [
    {
     "name": "stdout",
     "output_type": "stream",
     "text": [
      "0\n",
      "Brasil\n",
      "1\n",
      "Argentina\n",
      "2\n",
      "China\n",
      "3\n",
      "Canadá\n",
      "4\n",
      "Japão\n"
     ]
    }
   ],
   "source": [
    "for x in range(len(nome_paises)):\n",
    "    print(x)\n",
    "    print(nome_paises[x])"
   ]
  },
  {
   "cell_type": "code",
   "execution_count": 143,
   "metadata": {},
   "outputs": [
    {
     "name": "stdout",
     "output_type": "stream",
     "text": [
      "[0, 1, 2, 3, 4, 5, 6, 7, 8, 9]\n",
      "[2, 3, 4, 5, 6, 7, 8, 9]\n",
      "[2, 4, 6, 8]\n"
     ]
    }
   ],
   "source": [
    "print(list(range(10))) # de 0 a 9\n",
    "print(list(range(2, 10))) # de 2 a 9\n",
    "print(list(range(2, 10, 2))) # de 2 a 9 de 2 em 2"
   ]
  },
  {
   "cell_type": "markdown",
   "metadata": {},
   "source": [
    "# Aula 06 - Funções I\n",
    "## Funções\n",
    "Funções são uma espécie de \"subprograma\". Elas são como pequenos pedacinhos de programa que podem ser chamadas pelo nome. Para criar uma função usamos o comando \"def\" e o nome da função. Elas são um bloco de comando assim como if/elif/else, while e for."
   ]
  },
  {
   "cell_type": "code",
   "execution_count": 144,
   "metadata": {},
   "outputs": [],
   "source": [
    "def hello():\n",
    "    print(\"Olá, mundo!\")"
   ]
  },
  {
   "cell_type": "markdown",
   "metadata": {},
   "source": [
    "Quando uma função é chamada pelo nome, o fluxo do programa é interrompido. Em seguida, a função inteira é executada, e ao final dela, o programa volta a ser executado do mesmo ponto que parou."
   ]
  },
  {
   "cell_type": "code",
   "execution_count": 145,
   "metadata": {},
   "outputs": [
    {
     "name": "stdout",
     "output_type": "stream",
     "text": [
      "Olá, mundo!\n"
     ]
    }
   ],
   "source": [
    "hello()\n",
    "\n",
    "# Saída: Olá, mundo!"
   ]
  },
  {
   "cell_type": "markdown",
   "metadata": {},
   "source": [
    "É possível passarmos informações para uma função. Chamamos essas informações de \"parâmetros\" ou \"argumentos. Na definição da função, daremos nome a esses parâmetros. Dentro da função, eles serão tratados como se fossem variáveis."
   ]
  },
  {
   "cell_type": "code",
   "execution_count": 146,
   "metadata": {},
   "outputs": [],
   "source": [
    "def ola(nome):\n",
    "    print(\"Olá\", nome)"
   ]
  },
  {
   "cell_type": "markdown",
   "metadata": {},
   "source": [
    "Ao chamarmos a nossa funcao, passamos os parâmetros entre parênteses. O nome ou valor passado não precisam ser iguais aos declarados na função! O nome do parâmetro interno da função é um \"apelido\" que a função dará para o valor ou variável que passamos."
   ]
  },
  {
   "cell_type": "code",
   "execution_count": 147,
   "metadata": {},
   "outputs": [
    {
     "name": "stdout",
     "output_type": "stream",
     "text": [
      "Olá Maria\n",
      "Olá João\n"
     ]
    }
   ],
   "source": [
    "ola(\"Maria\")\n",
    "# Saída: Olá, Maria\n",
    "\n",
    "aluno = \"João\"\n",
    "ola(aluno)\n",
    "# Saída: Olá, João"
   ]
  },
  {
   "cell_type": "markdown",
   "metadata": {},
   "source": [
    "A função pode receber vários parâmetros separados por vírgula."
   ]
  },
  {
   "cell_type": "code",
   "execution_count": 148,
   "metadata": {},
   "outputs": [
    {
     "name": "stdout",
     "output_type": "stream",
     "text": [
      "Seu nome é José, você tem 30 anos e mora em Maceió.\n"
     ]
    }
   ],
   "source": [
    "def dadosPessoais(nome, idade, cidade):\n",
    "    print(\"Seu nome é {}, você tem {} anos e mora em {}.\".format(nome, idade, cidade))\n",
    "\n",
    "dadosPessoais(\"José\", 30, \"Maceió\")\n",
    "# Saída: Seu nome é José, você tem 30 anos e mora em Maceió."
   ]
  },
  {
   "cell_type": "markdown",
   "metadata": {},
   "source": [
    "Os parâmetros podem ser passados fora de ordem. Porém, para isso precisamos explicitar qual parâmetro estamos passando, para evitar ambiguidade ou erros de interpretação do Python."
   ]
  },
  {
   "cell_type": "code",
   "execution_count": 149,
   "metadata": {},
   "outputs": [
    {
     "name": "stdout",
     "output_type": "stream",
     "text": [
      "Seu nome é Ana, você tem 56 anos e mora em Florianópolis.\n"
     ]
    }
   ],
   "source": [
    "dadosPessoais(idade=56, cidade=\"Florianópolis\", nome=\"Ana\")\n",
    "# Saída: Seu nome é Ana, você tem 56 anos e mora em Florianópolis."
   ]
  },
  {
   "cell_type": "markdown",
   "metadata": {},
   "source": [
    "## Funções com resposta\n",
    "Uma função pode ter uma \"resposta\". Por exemplo, nossa função pode ser uma conta, e o resultado da conta pode ser útil em nosso programa. Dizemos que essas funções \"retornam\" um valor. Utilizamos a palavra \"return\" para fazer uma função retornar sua resposta. Quando uma função retorna um valor, ela pode ser usada em expressões matemáticas ou lógicas, ter seu valor atribuído a uma variável, etc."
   ]
  },
  {
   "cell_type": "code",
   "execution_count": 150,
   "metadata": {},
   "outputs": [
    {
     "name": "stdout",
     "output_type": "stream",
     "text": [
      "A soma dos elementos da lista vale:  15\n",
      "Que soma pequena!\n"
     ]
    },
    {
     "data": {
      "text/plain": [
       "'\\nSaída:\\nA soma dos elementos da lista vale:  15\\nQue soma pequena!\\n'"
      ]
     },
     "execution_count": 150,
     "metadata": {},
     "output_type": "execute_result"
    }
   ],
   "source": [
    "def somatorio(lista):\n",
    "    soma = 0\n",
    "    for item in lista:\n",
    "        soma = soma + item\n",
    "    return soma\n",
    "\n",
    "numeros = [1, 2, 3, 4, 5]\n",
    "soma_dos_numeros = somatorio(numeros)\n",
    "print(\"A soma dos elementos da lista vale: \", soma_dos_numeros)\n",
    "\n",
    "if somatorio(numeros) > 50:\n",
    "    print(\"Que soma grande!\")\n",
    "else:\n",
    "    print(\"Que soma pequena!\")\n",
    "    \n",
    "'''\n",
    "Saída:\n",
    "A soma dos elementos da lista vale:  15\n",
    "Que soma pequena!\n",
    "'''"
   ]
  },
  {
   "cell_type": "markdown",
   "metadata": {},
   "source": [
    "## Funções recursivas\n",
    "Algumas funções são chamadas funções recursivas. A recursividade (ou recursão) é uma propriedade na qual uma função faz referência a si mesma. Quando a função encontra uma nova referência, ela irá pausar sua execução atual e iniciar a execução da nova instância, para só então retomar sua execução.\n",
    "\n",
    "Assim como nos loops, é necessário ter alguma condição para que as chamadas recursivas sejam interrompidas, evitando que executem para sempre."
   ]
  },
  {
   "cell_type": "code",
   "execution_count": 151,
   "metadata": {},
   "outputs": [
    {
     "name": "stdout",
     "output_type": "stream",
     "text": [
      "Testando a função recursiva:\n",
      "1\n",
      "2\n",
      "3\n",
      "4\n",
      "5\n",
      "6\n",
      "7\n",
      "8\n",
      "9\n",
      "10\n"
     ]
    }
   ],
   "source": [
    "def funcaoRecursiva(numero):\n",
    "    if (numero != 1):\n",
    "        funcaoRecursiva(numero - 1)\n",
    "    print(numero)\n",
    "\n",
    "print(\"Testando a função recursiva:\")\n",
    "funcaoRecursiva(10)"
   ]
  },
  {
   "cell_type": "markdown",
   "metadata": {},
   "source": [
    "Note que no exemplo acima passamos 10 para a função. Sua execução foi interrompida por uma nova chamada passando 9, depois 8, depois 7... Ao chegar em 1, ele foge da condicional e imprime 1, encerrando a execução. Então a instância que recebeu 2 tambem conclui sua execução, depois a chamada 3, a 4... A 10, que foi a 1a chamada, encerra por último.\n",
    "\n",
    "Dizemos que é um comportamento de pilha - exatamente como uma pilha de pratos sobre a mesa: O primeiro prato que foi colocado sobre a mesa será o último a sair, pois todos os pratos colocados sobre ele precisam ser retirados antes de você poder retirar o último.\n",
    "\n",
    "Problemas recursivos normalmente são problemas do tipo \"dividir para conquistar\": Temos um \"caso base\", ou seja, um ou mais casos onde há uma resposta direta; E temos um \"caso geral\", que é uma versão reduzida do problema original."
   ]
  },
  {
   "cell_type": "markdown",
   "metadata": {},
   "source": [
    "# Aula 07 - Funções II\n",
    "## Agrupando parâmetros\n",
    "Podemos utilizar o operador * - que, neste caso, não será uma multiplicação. Ao colocarmos o * ao lado do nome de um parâmetro na definição da função, estamos dizendo que aquele argumento será uma coleção. Mais especificamente, uma tupla. Porém, o usuário não irá passar uma tupla. Ele irá passar quantos argumentos ele quiser, e o Python automaticamente criará uma tupla com eles:"
   ]
  },
  {
   "cell_type": "code",
   "execution_count": 152,
   "metadata": {},
   "outputs": [
    {
     "name": "stdout",
     "output_type": "stream",
     "text": [
      "O volume é:  100\n"
     ]
    }
   ],
   "source": [
    "def piscina(*infos):\n",
    "    vol = infos[0]*infos[1]*infos[2]\n",
    "    return vol\n",
    "\n",
    "volume = piscina(5, 4, 5)\n",
    "\n",
    "print('O volume é: ', volume)"
   ]
  },
  {
   "cell_type": "markdown",
   "metadata": {},
   "source": [
    "Podemos utilizar o operador * na chamada da função também. Na definição, o operador * indica que devemos agrupar itens avulsos em uma coleção. Na chamada, ele indica que uma coleção deve ser expandida em itens avulsos:"
   ]
  },
  {
   "cell_type": "code",
   "execution_count": 153,
   "metadata": {},
   "outputs": [
    {
     "name": "stdout",
     "output_type": "stream",
     "text": [
      "O volume é:  100\n"
     ]
    }
   ],
   "source": [
    "def piscina(prof, largura, comprimento):\n",
    "    vol = prof*largura*comprimento\n",
    "    return vol\n",
    "\n",
    "lista = [5, 4, 5]\n",
    "\n",
    "volume = piscina(*lista)\n",
    "\n",
    "print('O volume é: ', volume)"
   ]
  },
  {
   "cell_type": "markdown",
   "metadata": {},
   "source": [
    "## Parâmetros opcionais\n",
    "Outra possibilidade são funções com parâmetros opcionais. Note que isso é diferente de termos quantidade variável de parâmetros. No caso da quantidade variável, normalmente são diversos parâmetros com a mesma utilidade (números a serem somados, valores a serem exibidos etc), enquanto os parâmetros opcionais são informações distintas que podem ou não ser passadas para a função.\n",
    "\n",
    "Para criar parâmetros opcionais, usaremos **, e os parâmetros passados serão agrupados em um dicionário: o nome do parâmetro será uma chave, e o valor será... O valor."
   ]
  },
  {
   "cell_type": "code",
   "execution_count": 155,
   "metadata": {},
   "outputs": [
    {
     "name": "stdout",
     "output_type": "stream",
     "text": [
      "O volume é:  100\n"
     ]
    }
   ],
   "source": [
    "def piscina(prof, **infos):\n",
    "    vol = prof*infos['largura']*infos['comprimento']\n",
    "    return vol\n",
    "\n",
    "volume = piscina(5, largura=4, comprimento=5)\n",
    "\n",
    "print('O volume é: ', volume)"
   ]
  },
  {
   "cell_type": "markdown",
   "metadata": {},
   "source": [
    "Analogamente ao caso dos parâmetros múltiplos, é possível que o usuário da função já tenha os dados organizados em um dicionário. Neste caso, basta usar ** na chamada da função para expandir o dicionário em vários parâmetros opcionais:"
   ]
  },
  {
   "cell_type": "code",
   "execution_count": 156,
   "metadata": {},
   "outputs": [
    {
     "name": "stdout",
     "output_type": "stream",
     "text": [
      "O volume é:  1000\n"
     ]
    }
   ],
   "source": [
    "def piscina(prof, largura=4, comprimento=5):\n",
    "    vol = prof*largura*comprimento\n",
    "    return vol\n",
    "\n",
    "infos = {'largura': 10, 'comprimento': 20}\n",
    "\n",
    "volume = piscina(5, **infos)\n",
    "\n",
    "print('O volume é: ', volume)"
   ]
  },
  {
   "cell_type": "code",
   "execution_count": null,
   "metadata": {},
   "outputs": [],
   "source": []
  }
 ],
 "metadata": {
  "kernelspec": {
   "display_name": "Python 3",
   "language": "python",
   "name": "python3"
  },
  "language_info": {
   "codemirror_mode": {
    "name": "ipython",
    "version": 3
   },
   "file_extension": ".py",
   "mimetype": "text/x-python",
   "name": "python",
   "nbconvert_exporter": "python",
   "pygments_lexer": "ipython3",
   "version": "3.7.8"
  }
 },
 "nbformat": 4,
 "nbformat_minor": 4
}
