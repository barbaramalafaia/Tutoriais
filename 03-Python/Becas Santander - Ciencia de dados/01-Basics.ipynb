{
 "cells": [
  {
   "cell_type": "code",
   "execution_count": null,
   "metadata": {},
   "outputs": [],
   "source": []
  },
  {
   "cell_type": "markdown",
   "metadata": {},
   "source": [
    "# Tipos de variáveis"
   ]
  },
  {
   "cell_type": "code",
   "execution_count": null,
   "metadata": {},
   "outputs": [],
   "source": []
  },
  {
   "cell_type": "markdown",
   "metadata": {},
   "source": [
    "# Operadores"
   ]
  },
  {
   "cell_type": "markdown",
   "metadata": {},
   "source": [
    "## Operadores aritméticos"
   ]
  },
  {
   "cell_type": "code",
   "execution_count": 1,
   "metadata": {},
   "outputs": [],
   "source": [
    "x = 50\n",
    "y = 2"
   ]
  },
  {
   "cell_type": "code",
   "execution_count": 2,
   "metadata": {},
   "outputs": [
    {
     "name": "stdout",
     "output_type": "stream",
     "text": [
      "52\n",
      "48\n",
      "100\n",
      "25.0\n"
     ]
    }
   ],
   "source": [
    "print(x + y)\n",
    "print(x - y)\n",
    "print(x * y)\n",
    "print(x / y)"
   ]
  },
  {
   "cell_type": "code",
   "execution_count": 3,
   "metadata": {},
   "outputs": [
    {
     "name": "stdout",
     "output_type": "stream",
     "text": [
      "2500\n",
      "25\n",
      "0\n"
     ]
    }
   ],
   "source": [
    "print(x ** y) #elevado\n",
    "print(x // y) #divisão inteira\n",
    "print(x % y) #resto"
   ]
  },
  {
   "cell_type": "code",
   "execution_count": 4,
   "metadata": {},
   "outputs": [
    {
     "name": "stdout",
     "output_type": "stream",
     "text": [
      "3.75\n",
      "3\n"
     ]
    }
   ],
   "source": [
    "x = 15\n",
    "y = 4\n",
    "print(x / y) #divisão \n",
    "print(x // y) #divisão inteira"
   ]
  },
  {
   "cell_type": "code",
   "execution_count": 5,
   "metadata": {},
   "outputs": [
    {
     "name": "stdout",
     "output_type": "stream",
     "text": [
      "5 -1 6 0.6666666666666666 0 8 2\n",
      "6 0\n",
      "Digite seu primeiro nome:Barbara \n",
      "Barbara  Schmitt\n"
     ]
    }
   ],
   "source": [
    "# Podemos fazer operações aritméticas simples\n",
    "a = 2 + 3  # Soma\n",
    "b = 2 - 3  # Subtração\n",
    "c = 2 * 3  # Multiplicação\n",
    "d = 2 / 3  # Divisão\n",
    "e = 2 // 3 # Divisão inteira\n",
    "f = 2 ** 3 # Potência\n",
    "g = 2 % 3  # Resto de divisão\n",
    "\n",
    "print (a, b, c, d, e, f, g)\n",
    "\n",
    "# Podemos fazer operações dentro do print\n",
    "\n",
    "print (a+1, b+1)\n",
    "\n",
    "#Podemos fazer operações com variáveis não inteiras\n",
    "nome = input('Digite seu primeiro nome:')\n",
    "nome = nome + ' Schmitt'\n",
    "print(nome)"
   ]
  },
  {
   "cell_type": "markdown",
   "metadata": {},
   "source": [
    "## Operadores relacionais"
   ]
  },
  {
   "cell_type": "markdown",
   "metadata": {},
   "source": [
    "Observe o código abaixo:"
   ]
  },
  {
   "cell_type": "code",
   "execution_count": 6,
   "metadata": {},
   "outputs": [
    {
     "name": "stdout",
     "output_type": "stream",
     "text": [
      "True\n"
     ]
    }
   ],
   "source": [
    "comparacao1 = 5 > 3\n",
    "print(comparacao1)"
   ]
  },
  {
   "cell_type": "code",
   "execution_count": 7,
   "metadata": {},
   "outputs": [
    {
     "name": "stdout",
     "output_type": "stream",
     "text": [
      "False\n"
     ]
    }
   ],
   "source": [
    "comparacao2 = 5 < 3\n",
    "print(comparacao2)"
   ]
  },
  {
   "cell_type": "markdown",
   "metadata": {},
   "source": [
    "Isso ocorre porque 5 é maior que 3. Portanto, comparacao1 recebeu uma expressão cujo valor lógico é verdadeiro, portanto seu resultado foi True, e o oposto ocorreu para comparacao2.\n",
    "\n",
    "O Python possui 6 operadores relacionais:\n",
    "\n",
    "    Maior que: >\n",
    "    Maior ou igual: >=\n",
    "    Menor que: <\n",
    "    Menor ou igual: <=\n",
    "    Igual: ==\n",
    "    Diferente: !=\n",
    "    \n",
    "Note que o operador para comparar se 2 valores são iguais é ==, e não =. Isso ocorre porque o operador = é o nosso operador de atribuição: ele diz que a variável à sua esquerda deve receber o valor da expressão à direita. O operador == irá testar se o valor à sua esquerda é igual ao valor à sua direita e irá responder True ou False, como todos os outros operadores de comparação."
   ]
  },
  {
   "cell_type": "code",
   "execution_count": 8,
   "metadata": {},
   "outputs": [],
   "source": [
    "dolar = 5.3\n",
    "real = 1"
   ]
  },
  {
   "cell_type": "code",
   "execution_count": 9,
   "metadata": {},
   "outputs": [
    {
     "name": "stdout",
     "output_type": "stream",
     "text": [
      "True\n",
      "False\n",
      "False\n",
      "True\n",
      "False\n",
      "True\n"
     ]
    }
   ],
   "source": [
    "print(dolar > real)\n",
    "print(dolar < real)\n",
    "print(dolar == real)\n",
    "print(dolar >= real)\n",
    "print(dolar <= real)\n",
    "print(dolar != real)"
   ]
  },
  {
   "cell_type": "markdown",
   "metadata": {},
   "source": [
    "## Operadores lógicos"
   ]
  },
  {
   "cell_type": "code",
   "execution_count": 10,
   "metadata": {},
   "outputs": [],
   "source": [
    "tem_cafe = True\n",
    "tem_pao = False"
   ]
  },
  {
   "cell_type": "code",
   "execution_count": 11,
   "metadata": {
    "scrolled": true
   },
   "outputs": [
    {
     "name": "stdout",
     "output_type": "stream",
     "text": [
      "False\n",
      "True\n",
      "False\n"
     ]
    }
   ],
   "source": [
    "print(not tem_cafe)\n",
    "print(tem_cafe or tem_pao)\n",
    "print(tem_cafe and tem_pao)"
   ]
  },
  {
   "cell_type": "markdown",
   "metadata": {},
   "source": [
    "Em alguns casos também precisamos testar se duas ou mais condições são verdadeiras. Para isso utilizaremos as conjunções lógicas:\n",
    "\n",
    "    and: verdadeiro se condição 1 for verdadeira e condição 2 for verdadeira\n",
    "    or: verdadeiro se condição 1 for verdadeira ou condição 2 for verdadeira\n",
    "No exemplo abaixo, o resultado é verdadeiro para comparacao1 e falso para comparacao2."
   ]
  },
  {
   "cell_type": "code",
   "execution_count": 12,
   "metadata": {},
   "outputs": [],
   "source": [
    "comparacao1 = 5 > 3 and 6 > 3\n",
    "comparacao2 = 5 < 3 and 6 > 3"
   ]
  },
  {
   "cell_type": "code",
   "execution_count": 13,
   "metadata": {},
   "outputs": [
    {
     "name": "stdout",
     "output_type": "stream",
     "text": [
      "True\n",
      "False\n"
     ]
    }
   ],
   "source": [
    "print(comparacao1)\n",
    "print(comparacao2)"
   ]
  },
  {
   "cell_type": "markdown",
   "metadata": {},
   "source": [
    "Já no exemplo seguinte, tanto comparacao1 quanto comparacao2 retornam o valor verdadeiro."
   ]
  },
  {
   "cell_type": "code",
   "execution_count": 14,
   "metadata": {},
   "outputs": [],
   "source": [
    "comparacao1 = 5 > 3 or 6 > 3\n",
    "comparacao2 = 5 < 3 or 6 > 3"
   ]
  },
  {
   "cell_type": "code",
   "execution_count": 15,
   "metadata": {},
   "outputs": [
    {
     "name": "stdout",
     "output_type": "stream",
     "text": [
      "True\n",
      "True\n"
     ]
    }
   ],
   "source": [
    "print(comparacao1)\n",
    "print(comparacao2)"
   ]
  },
  {
   "cell_type": "markdown",
   "metadata": {},
   "source": [
    "Também é possível negar uma expressão lógica usando o not. Em outras palavras, se comparacao1 = 5 > 3 é verdadeira, comparacao1 = not(5 > 3) será falsa, e vice-versa."
   ]
  },
  {
   "cell_type": "markdown",
   "metadata": {},
   "source": [
    "# Estruturas Sequenciais"
   ]
  },
  {
   "cell_type": "markdown",
   "metadata": {},
   "source": [
    "## Outputs"
   ]
  },
  {
   "cell_type": "markdown",
   "metadata": {},
   "source": [
    "Chamamos de saídas ou outputs do nosso programa todos os dados que são gerados pelo programa e fornecidos para o usuário.\n",
    "\n",
    "Já conhecemos a função print() que recebe um valor ou uma sequência de valores e realiza a tarefa de imprimí-los na tela."
   ]
  },
  {
   "cell_type": "code",
   "execution_count": 16,
   "metadata": {},
   "outputs": [
    {
     "name": "stdout",
     "output_type": "stream",
     "text": [
      "eu estudo na  Let's Code\n",
      "pi vale 3.14\n",
      "4.140000000000001 9.8596\n"
     ]
    }
   ],
   "source": [
    "y = 3.14 # uma variável do tipo real (float)\n",
    "escola = \"Let's Code\" # uma variável literal (string)\n",
    "\n",
    "# Podemos exibir textos na tela e/ou valores de variáveis com a função print().\n",
    "print('eu estudo na ', escola)\n",
    "print('pi vale', y)\n",
    "\n",
    "# Podemos fazer operações dentro do print:\n",
    "print (y+1, y**2)"
   ]
  },
  {
   "cell_type": "markdown",
   "metadata": {},
   "source": [
    "## Inputs"
   ]
  },
  {
   "cell_type": "markdown",
   "metadata": {},
   "source": [
    "Já as entradas ou inputs do nosso programa são as informações que o usuário possui e deve fornecer ao código."
   ]
  },
  {
   "cell_type": "code",
   "execution_count": 17,
   "metadata": {},
   "outputs": [
    {
     "name": "stdout",
     "output_type": "stream",
     "text": [
      "Digite o seu nome: Barbara \n",
      "Digite o seu peso: 54\n",
      "Digite a sua idade: 33\n",
      "Barbara  pesa 54.0 kg e tem 33 anos de idade.\n"
     ]
    }
   ],
   "source": [
    "# Podemos ler valores do teclado com a função input().\n",
    "# Ela permite que a gente passe uma mensagem para o usuário.\n",
    "nome = input('Digite o seu nome: ')\n",
    "\n",
    "# Tudo que é lido por input() é considerado uma string (str).\n",
    "# Para tratar como outros tipos de dados é necessário realizar a conversão:\n",
    "peso = float(input('Digite o seu peso: ')) # lê o peso como número real\n",
    "idade = int(input('Digite a sua idade: ')) # lê a idade como número inteiro\n",
    "\n",
    "print(nome, 'pesa', peso, 'kg e tem', idade, 'anos de idade.')"
   ]
  },
  {
   "cell_type": "markdown",
   "metadata": {},
   "source": [
    "Aula:"
   ]
  },
  {
   "cell_type": "code",
   "execution_count": 18,
   "metadata": {},
   "outputs": [
    {
     "name": "stdout",
     "output_type": "stream",
     "text": [
      "Informe a sua idade: 33\n",
      "33 <class 'str'>\n"
     ]
    }
   ],
   "source": [
    "idade = input(\"Informe a sua idade: \")\n",
    "print(idade, type(idade))"
   ]
  },
  {
   "cell_type": "code",
   "execution_count": 19,
   "metadata": {},
   "outputs": [
    {
     "name": "stdout",
     "output_type": "stream",
     "text": [
      "33 <class 'int'>\n"
     ]
    }
   ],
   "source": [
    "idade = int(idade)\n",
    "print(idade, type(idade))"
   ]
  },
  {
   "cell_type": "code",
   "execution_count": 20,
   "metadata": {},
   "outputs": [
    {
     "ename": "ValueError",
     "evalue": "invalid literal for int() with base 10: '123abc'",
     "output_type": "error",
     "traceback": [
      "\u001b[1;31m---------------------------------------------------------------------------\u001b[0m",
      "\u001b[1;31mValueError\u001b[0m                                Traceback (most recent call last)",
      "\u001b[1;32m<ipython-input-20-3f399f3e070c>\u001b[0m in \u001b[0;36m<module>\u001b[1;34m\u001b[0m\n\u001b[1;32m----> 1\u001b[1;33m \u001b[0mint\u001b[0m\u001b[1;33m(\u001b[0m\u001b[1;34m\"123abc\"\u001b[0m\u001b[1;33m)\u001b[0m\u001b[1;33m\u001b[0m\u001b[1;33m\u001b[0m\u001b[0m\n\u001b[0m",
      "\u001b[1;31mValueError\u001b[0m: invalid literal for int() with base 10: '123abc'"
     ]
    }
   ],
   "source": [
    "int(\"123abc\")"
   ]
  },
  {
   "cell_type": "code",
   "execution_count": 21,
   "metadata": {},
   "outputs": [
    {
     "name": "stdout",
     "output_type": "stream",
     "text": [
      "123.25\n",
      "123.25\n",
      "False\n",
      "True\n",
      "False\n",
      "True\n"
     ]
    }
   ],
   "source": [
    "print(float('123.25'))\n",
    "print(str(123.25))\n",
    "print(bool(''))\n",
    "print(bool('abc'))\n",
    "print(bool(0)) #somente o zero é falso\n",
    "print(bool(-2)) #qualquer outro valor é verdadeira"
   ]
  },
  {
   "cell_type": "code",
   "execution_count": 22,
   "metadata": {},
   "outputs": [
    {
     "name": "stdout",
     "output_type": "stream",
     "text": [
      "Digite o valor do seu salário mensal:3500\n",
      "Digite o valor do seu gasto mensal em média:2400\n",
      "O montante que você pode economizar em um ano é:  13200.0\n"
     ]
    }
   ],
   "source": [
    "salario_mensal = input(\"Digite o valor do seu salário mensal:\")\n",
    "salario_mensal = float(salario_mensal)\n",
    "\n",
    "gasto_mensal = input(\"Digite o valor do seu gasto mensal em média:\")\n",
    "gasto_mensal = float(gasto_mensal)\n",
    "\n",
    "salario_total = salario_mensal * 12\n",
    "gasto_total = gasto_mensal * 12\n",
    "\n",
    "montante_economizado = salario_total - gasto_total\n",
    "print(\"O montante que você pode economizar em um ano é: \", montante_economizado)"
   ]
  },
  {
   "cell_type": "markdown",
   "metadata": {},
   "source": [
    "# Estruturas Condicionais"
   ]
  },
  {
   "cell_type": "markdown",
   "metadata": {},
   "source": [
    "## If\n",
    "O if testa uma condição:\n",
    "\n",
    "    se ela for verdadeira, seu conteúdo é executado;\n",
    "    caso contrário, seu conteúdo é ignorado."
   ]
  },
  {
   "cell_type": "code",
   "execution_count": 23,
   "metadata": {},
   "outputs": [
    {
     "name": "stdout",
     "output_type": "stream",
     "text": [
      "Digite sua idade:33\n",
      "Você pode entrar na montanha russa.\n",
      "Obrigado por participar.\n",
      "Digite sua altura, em metros:1.54\n",
      "Obrigado por participar.\n"
     ]
    }
   ],
   "source": [
    "idade = int(input('Digite sua idade:'))\n",
    "if idade >= 12:\n",
    "    print('Você pode entrar na montanha russa.')\n",
    "print('Obrigado por participar.')\n",
    "\n",
    "altura = float(input('Digite sua altura, em metros:'))\n",
    "if idade >= 12 and altura >= 1.60:\n",
    "    print('Você pode entrar na montanha russa.')\n",
    "print('Obrigado por participar.')"
   ]
  },
  {
   "cell_type": "markdown",
   "metadata": {},
   "source": [
    "Utilizamos um 'tab' antes de cada linha pertencente ao if. No exemplo acima, a linha 'obrigado por participar' sempre será exibida. Já a linha 'Você pode entrar na montanha russa.' só será exibida se a idade digitada for maior ou igual a 12 e a altura digitada for maior ou igual a 1.60."
   ]
  },
  {
   "cell_type": "markdown",
   "metadata": {},
   "source": [
    "## Else\n",
    "Em alguns casos, queremos que o programa escolha entre 2 casos mutuamente exclusivos. Para isso utilizamos o else. O else não possui condição para verificar. O else sempre vem imediatamente após um if e é executado se o if for ignorado."
   ]
  },
  {
   "cell_type": "code",
   "execution_count": 24,
   "metadata": {},
   "outputs": [
    {
     "name": "stdout",
     "output_type": "stream",
     "text": [
      "Digite sua idade:33\n",
      "Digite sua altura, em metros:1.54\n",
      "Você não pode entrar na montanha russa.\n",
      "Obrigado por participar.\n"
     ]
    }
   ],
   "source": [
    "idade = int(input('Digite sua idade:'))\n",
    "altura = float(input('Digite sua altura, em metros:'))\n",
    "if idade >= 12 and altura >= 1.60:\n",
    "    print('Você pode entrar na montanha russa.')\n",
    "else:\n",
    "    print('Você não pode entrar na montanha russa.')\n",
    "print('Obrigado por participar.')"
   ]
  },
  {
   "cell_type": "markdown",
   "metadata": {},
   "source": [
    "É possível \"aninhar\" diversos if's e else's. O programa abaixo só deixa a pessoa entrar no brinquedo se tiver idade e altura mínimas:"
   ]
  },
  {
   "cell_type": "code",
   "execution_count": 25,
   "metadata": {},
   "outputs": [
    {
     "name": "stdout",
     "output_type": "stream",
     "text": [
      "Digite sua idade:33\n",
      "Você gostaria de entrar nesta montanha russa?sim\n",
      "Por favor, entre!\n"
     ]
    }
   ],
   "source": [
    "idade = int(input('Digite sua idade:'))\n",
    "if idade >= 12:\n",
    "    resposta = input('Você gostaria de entrar nesta montanha russa?')\n",
    "    if (resposta == 'sim'):\n",
    "        print('Por favor, entre!')\n",
    "    else:\n",
    "        print('Ok então')\n",
    "else:\n",
    "    print('Você não tem idade suficiente para entrar nesse brinquedo.')"
   ]
  },
  {
   "cell_type": "markdown",
   "metadata": {},
   "source": [
    "## Elif\n",
    "Podemos testar diversos casos mutuamente exclusivos utilizando o 'elif'.\n",
    "\n",
    "O comando elif é a contração de \"else if\" - ou seja, caso um if não seja executado, você pode propor uma nova condição para ser testada."
   ]
  },
  {
   "cell_type": "code",
   "execution_count": 26,
   "metadata": {},
   "outputs": [
    {
     "name": "stdout",
     "output_type": "stream",
     "text": [
      "Quantos exercícios de Python vc já fez?5\n",
      "Xiiii...\n"
     ]
    }
   ],
   "source": [
    "exercicios = int(input('Quantos exercícios de Python vc já fez?'))\n",
    "\n",
    "if exercicios > 30:\n",
    "    print('Já está ficando profissional!')\n",
    "elif exercicios > 20:\n",
    "    print('Tá indo bem, bora fazer mais alguns!')\n",
    "elif exercicios > 10:\n",
    "    print('Vamos tirar o atraso?')\n",
    "else:\n",
    "    print('Xiiii...')"
   ]
  },
  {
   "cell_type": "markdown",
   "metadata": {},
   "source": [
    "Observe que a união das 3 estruturas (if-elif-else) implica que seu código seguirá apenas um dos possíveis caminhos, obrigatoriamente."
   ]
  },
  {
   "cell_type": "markdown",
   "metadata": {},
   "source": [
    "AULA:"
   ]
  },
  {
   "cell_type": "code",
   "execution_count": 27,
   "metadata": {},
   "outputs": [
    {
     "name": "stdout",
     "output_type": "stream",
     "text": [
      "Qual é o valor da corrida?35\n",
      "Pegue o ônibus\n"
     ]
    }
   ],
   "source": [
    "valor_passagem = 4.30\n",
    "\n",
    "valor_corrida = input(\"Qual é o valor da corrida?\")\n",
    "valor_corrida = float(valor_corrida)\n",
    "\n",
    "if valor_corrida <= valor_passagem * 5:\n",
    "    print(\"pague a corrida\")\n",
    "\n",
    "if valor_corrida > valor_passagem * 5:\n",
    "    print(\"Pegue o ônibus\")"
   ]
  },
  {
   "cell_type": "code",
   "execution_count": 28,
   "metadata": {},
   "outputs": [
    {
     "name": "stdout",
     "output_type": "stream",
     "text": [
      "Qual é o valor da corrida?17\n",
      "pague a corrida\n"
     ]
    }
   ],
   "source": [
    "valor_passagem = 4.30\n",
    "\n",
    "valor_corrida = input(\"Qual é o valor da corrida?\")\n",
    "valor_corrida = float(valor_corrida)\n",
    "\n",
    "if valor_corrida <= valor_passagem * 5:\n",
    "    print(\"pague a corrida\")\n",
    "else:\n",
    "    print(\"Pegue o ônibus\")"
   ]
  },
  {
   "cell_type": "code",
   "execution_count": 31,
   "metadata": {},
   "outputs": [
    {
     "name": "stdout",
     "output_type": "stream",
     "text": [
      "Qual é o valor da corrida?35\n",
      "Pegue o ônibus\n"
     ]
    }
   ],
   "source": [
    "# 20 , 23, 35\n",
    "valor_passagem = 4.30\n",
    "\n",
    "valor_corrida = input(\"Qual é o valor da corrida?\")\n",
    "valor_corrida = float(valor_corrida)\n",
    "\n",
    "if valor_corrida <= valor_passagem * 5:\n",
    "    print(\"pague a corrida\")\n",
    "else:\n",
    "    if valor_corrida <= valor_passagem * 6:\n",
    "        print(\"Aguarde um momento, o valor pode abaixar\")\n",
    "    else:\n",
    "        print(\"Pegue o ônibus\")"
   ]
  },
  {
   "cell_type": "code",
   "execution_count": 34,
   "metadata": {},
   "outputs": [
    {
     "name": "stdout",
     "output_type": "stream",
     "text": [
      "Qual é o valor da corrida?35\n",
      "Pegue o ônibus\n"
     ]
    }
   ],
   "source": [
    "# 20 , 23, 35\n",
    "valor_passagem = 4.30\n",
    "\n",
    "valor_corrida = input(\"Qual é o valor da corrida?\")\n",
    "valor_corrida = float(valor_corrida)\n",
    "\n",
    "if valor_corrida <= valor_passagem * 5:\n",
    "    print(\"pague a corrida\")\n",
    "elif valor_corrida <= valor_passagem * 6:\n",
    "    print(\"Aguarde um momento, o valor pode abaixar\")\n",
    "else:\n",
    "    print(\"Pegue o ônibus\")"
   ]
  },
  {
   "cell_type": "markdown",
   "metadata": {},
   "source": [
    "# Estruturas de Repetição - While"
   ]
  },
  {
   "cell_type": "markdown",
   "metadata": {},
   "source": [
    "## While\n",
    "O while é bastante parecido com um 'if': ele possui uma expressão, e é executado caso ela seja verdadeira. Mas o if é executado apenas uma vez, e depois o código segue adiante.\n",
    "\n",
    "O while não: ao final de sua execução, ele torna a testar a expressão, e caso ela seja verdadeira, ele repete sua execução."
   ]
  },
  {
   "cell_type": "code",
   "execution_count": 35,
   "metadata": {},
   "outputs": [
    {
     "name": "stdout",
     "output_type": "stream",
     "text": [
      "Qual horario é agora? 14\n",
      "Você nao está no horario da madrugada\n",
      "Você nao está no horario da madrugada\n",
      "Digite o numero de pipocas: 5\n",
      "O numero de pipocas é:  5\n",
      "O numero de pipocas é:  4\n",
      "O numero de pipocas é:  3\n",
      "O numero de pipocas é:  2\n",
      "O numero de pipocas é:  1\n"
     ]
    }
   ],
   "source": [
    "horario = int(input('Qual horario é agora? '))\n",
    "\n",
    "# Testando a condição uma única vez com o if:\n",
    "if 0 < horario < 6:\n",
    "    print('Você está no horario da madrugada')\n",
    "else:\n",
    "    print('Você nao está no horario da madrugada')\n",
    "\n",
    "# Testando a condição em loop com o while:\n",
    "while 0 < horario < 6:\n",
    "    print('Você está no horario da madrugada')\n",
    "    horario = horario + 1\n",
    "else:\n",
    "    print('Você nao está no horario da madrugada')\n",
    "\n",
    "# O while permite continuar decrementando o número de pipocas até chegar em 0:\n",
    "num_pipocas = int(input('Digite o numero de pipocas: '))\n",
    "\n",
    "while num_pipocas > 0:\n",
    "    print('O numero de pipocas é: ', num_pipocas)\n",
    "    num_pipocas = num_pipocas - 1"
   ]
  },
  {
   "cell_type": "markdown",
   "metadata": {},
   "source": [
    "## Validação de entrada\n",
    "Uma utilidade interessante do while é obrigar o usuário a digitar apenas entradas válidas."
   ]
  },
  {
   "cell_type": "code",
   "execution_count": 36,
   "metadata": {},
   "outputs": [
    {
     "name": "stdout",
     "output_type": "stream",
     "text": [
      "Digite seu salario: 3500\n",
      "O salario que você entrou foi:  3500.0\n"
     ]
    }
   ],
   "source": [
    "# o exemplo abaixo não aceita um salário menor do que o mínimo atual:\n",
    "salario = float(input('Digite seu salario: '))\n",
    "while salario < 998.0:\n",
    "    salario = float(input('Entre com um salario MAIOR DO QUE 998.0: '))\n",
    "else:\n",
    "    print('O salario que você entrou foi: ', salario)"
   ]
  },
  {
   "cell_type": "code",
   "execution_count": 37,
   "metadata": {},
   "outputs": [
    {
     "name": "stdout",
     "output_type": "stream",
     "text": [
      "Digite OK: oi\n",
      "Não foi isso que eu pedi, digite OK: nao\n",
      "Não foi isso que eu pedi, digite OK: sim\n",
      "Não foi isso que eu pedi, digite OK: ok\n",
      "Não foi isso que eu pedi, digite OK: Ok\n",
      "Não foi isso que eu pedi, digite OK: OK\n"
     ]
    }
   ],
   "source": [
    "# o exemplo abaixo só sai do loop quando o usuário digitar \"OK\":\n",
    "resposta = input('Digite OK: ')\n",
    "while resposta != 'OK':\n",
    "    resposta = input('Não foi isso que eu pedi, digite OK: ')"
   ]
  },
  {
   "cell_type": "markdown",
   "metadata": {},
   "source": [
    "## Contador\n",
    "Todo tipo de código que deve se repetir várias vezes pode ser feito com o while, como somar vários valores, gerar uma sequência etc. Nestes casos, é normal utilizar um contador:"
   ]
  },
  {
   "cell_type": "code",
   "execution_count": 39,
   "metadata": {},
   "outputs": [
    {
     "name": "stdout",
     "output_type": "stream",
     "text": [
      "Digite um numero: 15\n",
      "0\n",
      "1\n",
      "2\n",
      "3\n",
      "4\n",
      "5\n",
      "6\n",
      "7\n",
      "8\n",
      "9\n",
      "10\n",
      "11\n",
      "12\n",
      "13\n",
      "14\n"
     ]
    }
   ],
   "source": [
    "# Declaramos um contador como 0:\n",
    "contador = 0\n",
    "# Definimos o número de repetições:\n",
    "numero = int(input('Digite um numero: '))\n",
    "# Rodamos o while até o contador se igualar ao número de repetições:\n",
    "while contador < numero:\n",
    "    print(contador)\n",
    "    contador = contador + 1"
   ]
  },
  {
   "cell_type": "markdown",
   "metadata": {},
   "source": [
    "## Break\n",
    "Um jeito de forçar um loop a ser interrompido é utilizando o comando 'break'. O loop abaixo em tese seria infinito, mas se a condição do if for verificada, o break é executado e conseguimos escapar do loop:"
   ]
  },
  {
   "cell_type": "code",
   "execution_count": 40,
   "metadata": {},
   "outputs": [
    {
     "name": "stdout",
     "output_type": "stream",
     "text": [
      "Digite OK: oi\n",
      "Digite OK: nao\n",
      "Digite OK: OK\n"
     ]
    }
   ],
   "source": [
    "while True:\n",
    "    resposta = input('Digite OK: ')\n",
    "    if resposta == 'OK':\n",
    "        break"
   ]
  },
  {
   "cell_type": "markdown",
   "metadata": {},
   "source": [
    "AULA:"
   ]
  },
  {
   "cell_type": "code",
   "execution_count": 58,
   "metadata": {},
   "outputs": [
    {
     "name": "stdout",
     "output_type": "stream",
     "text": [
      "1 item limpo\n",
      "2 itens limpos\n",
      "3 itens limpos\n",
      "4 itens limpos\n",
      "5 itens limpos\n",
      "6 itens limpos\n",
      "7 itens limpos\n",
      "8 itens limpos\n",
      "9 itens limpos\n",
      "10 itens limpos\n",
      "Fim da repetição do bloco while\n"
     ]
    }
   ],
   "source": [
    "contador = 0\n",
    "\n",
    "while contador < 10:\n",
    "    contador = contador + 1\n",
    "    if contador == 1:\n",
    "        print(contador, \"item limpo\")\n",
    "    else:\n",
    "        print(contador, \"itens limpos\")\n",
    "\n",
    "print(\"Fim da repetição do bloco while\")"
   ]
  },
  {
   "cell_type": "code",
   "execution_count": 59,
   "metadata": {},
   "outputs": [
    {
     "name": "stdout",
     "output_type": "stream",
     "text": [
      "1 item limpo\n",
      "2 itens limpos\n",
      "3 itens limpos\n",
      "4 itens limpos\n",
      "5 itens limpos\n",
      "6 itens limpos\n",
      "7 itens limpos\n",
      "8 itens limpos\n",
      "9 itens limpos\n",
      "10 itens limpos\n",
      "Fim da repetição do bloco while\n"
     ]
    }
   ],
   "source": [
    "contador = 0\n",
    "\n",
    "while True:\n",
    "    if contador < 10:\n",
    "        contador = contador + 1\n",
    "        if contador == 1:\n",
    "            print(contador, \"item limpo\")\n",
    "        else:\n",
    "            print(contador, \"itens limpos\")\n",
    "    else:\n",
    "        break\n",
    "\n",
    "print(\"Fim da repetição do bloco while\")"
   ]
  },
  {
   "cell_type": "code",
   "execution_count": 61,
   "metadata": {},
   "outputs": [
    {
     "name": "stdout",
     "output_type": "stream",
     "text": [
      "Digite a sua senha: opu\n",
      "Senha inválida! Tente novamente123\n",
      "Senha inválida! Tente novamenteLetsCode\n",
      "Acesso permitido\n"
     ]
    }
   ],
   "source": [
    "texto = input('Digite a sua senha: ')\n",
    "\n",
    "while texto != 'LetsCode':\n",
    "    texto = input('Senha inválida! Tente novamente: ')\n",
    "    \n",
    "print('Acesso permitido')"
   ]
  },
  {
   "cell_type": "code",
   "execution_count": 62,
   "metadata": {},
   "outputs": [
    {
     "name": "stdout",
     "output_type": "stream",
     "text": [
      "2 itens limpos\n",
      "3 itens limpos\n",
      "4 itens limpos\n",
      "5 itens limpos\n",
      "6 itens limpos\n",
      "7 itens limpos\n",
      "8 itens limpos\n",
      "9 itens limpos\n",
      "10 itens limpos\n",
      "Fim da repetição do bloco while\n"
     ]
    }
   ],
   "source": [
    "contador = 0\n",
    "\n",
    "while contador < 10:\n",
    "    contador = contador + 1\n",
    "    if contador == 1:\n",
    "        continue\n",
    "    \n",
    "    print(contador, \"itens limpos\")\n",
    "\n",
    "print(\"Fim da repetição do bloco while\")"
   ]
  },
  {
   "cell_type": "code",
   "execution_count": 56,
   "metadata": {},
   "outputs": [
    {
     "name": "stdout",
     "output_type": "stream",
     "text": [
      "0  é um número par\n",
      "2  é um número par\n",
      "4  é um número par\n",
      "6  é um número par\n",
      "8  é um número par\n",
      "10  é um número par\n"
     ]
    }
   ],
   "source": [
    "contador = -1\n",
    "\n",
    "while contador < 10:\n",
    "    contador = contador + 1\n",
    "    if contador % 2 != 0:\n",
    "        continue\n",
    "    print(contador,\" é um número par\")"
   ]
  }
 ],
 "metadata": {
  "kernelspec": {
   "display_name": "Python 3",
   "language": "python",
   "name": "python3"
  },
  "language_info": {
   "codemirror_mode": {
    "name": "ipython",
    "version": 3
   },
   "file_extension": ".py",
   "mimetype": "text/x-python",
   "name": "python",
   "nbconvert_exporter": "python",
   "pygments_lexer": "ipython3",
   "version": "3.7.8"
  }
 },
 "nbformat": 4,
 "nbformat_minor": 4
}
