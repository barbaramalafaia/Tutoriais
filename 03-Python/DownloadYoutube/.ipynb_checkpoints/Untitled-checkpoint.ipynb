{
 "cells": [
  {
   "cell_type": "markdown",
   "id": "68e315dc",
   "metadata": {},
   "source": [
    "# Download videos from Youtube\n",
    "\n",
    "Source: \n",
    "https://www.freecodecamp.org/news/python-program-to-download-youtube-videos/\n",
    "\n",
    "Library documentation:\n",
    "https://pytube.io/en/latest/\n",
    "\n"
   ]
  },
  {
   "cell_type": "code",
   "execution_count": 4,
   "id": "5b0171f8",
   "metadata": {},
   "outputs": [],
   "source": [
    "#https://www.youtube.com/watch?v=KkYhzAdEYtM"
   ]
  },
  {
   "cell_type": "code",
   "execution_count": 1,
   "id": "191c4397",
   "metadata": {},
   "outputs": [],
   "source": [
    "from pytube import YouTube"
   ]
  },
  {
   "cell_type": "code",
   "execution_count": 2,
   "id": "d6e9f918",
   "metadata": {},
   "outputs": [],
   "source": [
    "def Download(link):\n",
    "    yt = YouTube(link)\n",
    "    yt = yt.streams.get_highest_resolution()\n",
    "    try:\n",
    "        yt.download()\n",
    "    except:\n",
    "        print(\"An error has occurred\")\n",
    "    print(\"Download is completed successfully\")\n"
   ]
  },
  {
   "cell_type": "code",
   "execution_count": 3,
   "id": "d501e2e6",
   "metadata": {},
   "outputs": [
    {
     "name": "stdout",
     "output_type": "stream",
     "text": [
      "Enter the YouTube video URL: https://www.youtube.com/watch?v=26PrgjTboVQ\n",
      "Download is completed successfully\n"
     ]
    }
   ],
   "source": [
    "link = input(\"Enter the YouTube video URL: \")\n",
    "Download(link)"
   ]
  },
  {
   "cell_type": "code",
   "execution_count": null,
   "id": "d591d476",
   "metadata": {},
   "outputs": [],
   "source": []
  }
 ],
 "metadata": {
  "kernelspec": {
   "display_name": "Python 3 (ipykernel)",
   "language": "python",
   "name": "python3"
  },
  "language_info": {
   "codemirror_mode": {
    "name": "ipython",
    "version": 3
   },
   "file_extension": ".py",
   "mimetype": "text/x-python",
   "name": "python",
   "nbconvert_exporter": "python",
   "pygments_lexer": "ipython3",
   "version": "3.10.7"
  }
 },
 "nbformat": 4,
 "nbformat_minor": 5
}
