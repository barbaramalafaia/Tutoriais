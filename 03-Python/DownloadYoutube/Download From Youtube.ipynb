{
 "cells": [
  {
   "cell_type": "markdown",
   "metadata": {},
   "source": [
    "# Download videos from Youtube\n",
    "\n",
    "Source: \n",
    "https://www.freecodecamp.org/news/python-program-to-download-youtube-videos/\n",
    "\n",
    "Library documentation:\n",
    "https://pytube.io/en/latest/\n",
    "\n"
   ]
  },
  {
   "cell_type": "markdown",
   "metadata": {},
   "source": [
    "* bbc 6 minutes\n",
    "    https://www.youtube.com/watch?v=26PrgjTboVQ\n",
    "\n",
    "* WORKSHOP: O Poder do Storytelling na construção de Dashboards Incomparáveis\n",
    "     https://www.youtube.com/watch?v=KkYhzAdEYtM\n",
    "\n",
    "### MOD 2 - ETL com Power Query \n",
    "* [PT] [Live #10 Mestre Power BI] Utilizando o PODER do Power Query para Estruturar Arquivos Complexos\n",
    "https://www.youtube.com/watch?v=Cgg6fk7yN8I\n",
    "\n",
    "### MOD 3 - Modelagem de dados\n",
    "* [PT] [Live #49 Mestre Power BI] PROCV no Power BI: Como evoluir do Excel para o Power BI\n",
    "https://www.youtube.com/watch?v=87DMja1Fb1o\n",
    "\n",
    "### MOD 4 - Dax\n",
    "* [PT] [Live 67 Mestre Power BI] Guia Definitivo das funções CALCULATE com ALL VALUES e KEEPFILTERS\n",
    "    https://www.youtube.com/watch?v=AH3kQJ1J_y4\n",
    "\n",
    "* [Live 2 Mestre Power BI] Funções DAX de Inteligência de Tempo (DATEADD DATESYTD PREVIOUSMONTH)\n",
    "    https://www.youtube.com/watch?v=uv7Gn5wuFq0\n",
    "    \n",
    "### MOD 5 - Visualizacao de dados\n",
    "\n",
    "* [ Power BI ] O poder do Storytelling para criar Dashboards com Design Premium\n",
    "https://www.youtube.com/watch?v=sD904Fbsglk\n",
    "\n",
    "\n",
    "### MOD 6 - Power BI Online"
   ]
  },
  {
   "cell_type": "code",
   "execution_count": 9,
   "metadata": {},
   "outputs": [],
   "source": [
    "#pip install pytube"
   ]
  },
  {
   "cell_type": "code",
   "execution_count": 31,
   "metadata": {},
   "outputs": [],
   "source": [
    "from pytube import YouTube"
   ]
  },
  {
   "cell_type": "code",
   "execution_count": 32,
   "metadata": {},
   "outputs": [],
   "source": [
    "link = \"https://www.youtube.com/watch?v=sD904Fbsglk\""
   ]
  },
  {
   "cell_type": "code",
   "execution_count": 33,
   "metadata": {},
   "outputs": [],
   "source": [
    "\n",
    "\n",
    "#print(\"Number of views: \",yt.views)\n",
    "#print(\"Length of video: \",yt.length)\n",
    "#print(\"Rating of video: \",yt.rating)"
   ]
  },
  {
   "cell_type": "code",
   "execution_count": 34,
   "metadata": {},
   "outputs": [],
   "source": [
    "def Download(link):\n",
    "    yt = YouTube(link)\n",
    "    yt = yt.streams.get_highest_resolution()\n",
    "\n",
    "    print(\"Title: \",yt.title)\n",
    "     \n",
    "    try:\n",
    "        yt.download()#'/Downloads'\n",
    "    except:\n",
    "        print(\"An error has occurred\")\n",
    "    print(\"Download is completed successfully\")\n"
   ]
  },
  {
   "cell_type": "code",
   "execution_count": 35,
   "metadata": {},
   "outputs": [],
   "source": [
    "#link = input(\"Enter the YouTube video URL: \")\n",
    "#Download(link)"
   ]
  },
  {
   "cell_type": "code",
   "execution_count": 36,
   "metadata": {},
   "outputs": [
    {
     "name": "stdout",
     "output_type": "stream",
     "text": [
      "Title:  [ Power BI ] O poder do Storytelling para criar Dashboards com Design Premium\n",
      "Download is completed successfully\n"
     ]
    }
   ],
   "source": [
    "Download(link)"
   ]
  },
  {
   "cell_type": "code",
   "execution_count": 37,
   "metadata": {},
   "outputs": [],
   "source": [
    "#15/02/2013 10\"23"
   ]
  }
 ],
 "metadata": {
  "kernelspec": {
   "display_name": "Python 3",
   "language": "python",
   "name": "python3"
  },
  "language_info": {
   "codemirror_mode": {
    "name": "ipython",
    "version": 3
   },
   "file_extension": ".py",
   "mimetype": "text/x-python",
   "name": "python",
   "nbconvert_exporter": "python",
   "pygments_lexer": "ipython3",
   "version": "3.7.8"
  }
 },
 "nbformat": 4,
 "nbformat_minor": 5
}
